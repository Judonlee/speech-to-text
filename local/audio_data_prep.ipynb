{
 "cells": [
  {
   "cell_type": "code",
   "execution_count": 1,
   "metadata": {
    "collapsed": true
   },
   "outputs": [],
   "source": [
    "__author__=\"Emily Hua\""
   ]
  },
  {
   "cell_type": "markdown",
   "metadata": {},
   "source": [
    "Go to kaldi/egs/code-switch directory and create itnerview_audio folder. In kaldi-trunk/egs/code-switch/interview_audio create two folders: train and test. Select ten speaker of your choice to represent testing data set. Use this speaker's 'speakerID' as a name for an another new folder in kaldi-trunk/egs/code-switch/interview_audio/test directory. Then put there all the audio files related to that person. Put the rest (84 speakers) into train folder - this will be your training data set. Also create subfolders for each speaker."
   ]
  },
  {
   "cell_type": "code",
   "execution_count": 5,
   "metadata": {
    "collapsed": false,
    "scrolled": false
   },
   "outputs": [
    {
     "name": "stdout",
     "output_type": "stream",
     "text": [
      "total 8991184\r\n",
      "-rwxr-xr-x  1 yehua  staff  48047643 Feb 16 12:56 NI01MAX_0101.flac*\r\n",
      "-rwxr-xr-x  1 yehua  staff  50547368 Feb 16 12:56 NI02FAX_0101.flac*\r\n",
      "-rwxr-xr-x  1 yehua  staff  64271878 Feb 16 12:56 NI03FBX_0101.flac*\r\n"
     ]
    }
   ],
   "source": [
    "ls -l ../seame_d2/data/interview/audio | head -4"
   ]
  },
  {
   "cell_type": "code",
   "execution_count": 10,
   "metadata": {
    "collapsed": false
   },
   "outputs": [
    {
     "name": "stdout",
     "output_type": "stream",
     "text": [
      "/Volumes/STARTRACK/deep-learning/LDC2015S04\n"
     ]
    }
   ],
   "source": [
    "import os\n",
    "parent_path = os.path.split(os.getcwd())[0]\n",
    "print (parent_path)"
   ]
  },
  {
   "cell_type": "code",
   "execution_count": 11,
   "metadata": {
    "collapsed": false
   },
   "outputs": [
    {
     "name": "stdout",
     "output_type": "stream",
     "text": [
      "there are total 210 of files in /Volumes/STARTRACK/deep-learning/LDC2015S04/seame_d2/data/interview/audio\n"
     ]
    }
   ],
   "source": [
    "audio_path = parent_path + '/seame_d2/data/interview/audio'\n",
    "dir_list = os.listdir(audio_path)[1:]\n",
    "print (\"there are total {} of files in {}\".format(len(dir_list), audio_path))"
   ]
  },
  {
   "cell_type": "code",
   "execution_count": 12,
   "metadata": {
    "collapsed": false
   },
   "outputs": [
    {
     "name": "stdout",
     "output_type": "stream",
     "text": [
      "there are 94 unique prefix sets\n"
     ]
    }
   ],
   "source": [
    "##################################\n",
    "#### create train and test set ###\n",
    "##################################\n",
    "import re\n",
    "from collections import defaultdict \n",
    "id_dic = defaultdict(int)\n",
    "for file in dir_list:\n",
    "    id_dic[re.split('_', file)[0][2:-1]] += 1\n",
    "print ('there are {} unique prefix sets'.format(len(id_dic)))"
   ]
  },
  {
   "cell_type": "code",
   "execution_count": 13,
   "metadata": {
    "collapsed": true
   },
   "outputs": [],
   "source": [
    "test_ids = ['01MA', '03FA','08MA', '29FA','29MB','42FB','44MB','45FB','67MB','55FB']"
   ]
  },
  {
   "cell_type": "code",
   "execution_count": 14,
   "metadata": {
    "collapsed": false
   },
   "outputs": [
    {
     "name": "stdout",
     "output_type": "stream",
     "text": [
      "there are 84 speaker ids in the training set\n"
     ]
    }
   ],
   "source": [
    "train_ids = []\n",
    "for key in id_dic:\n",
    "    if key not in test_ids:\n",
    "        train_ids.append(key)\n",
    "print ('there are {} speaker ids in the training set'.format(len(train_ids)))"
   ]
  },
  {
   "cell_type": "code",
   "execution_count": 15,
   "metadata": {
    "collapsed": false
   },
   "outputs": [
    {
     "name": "stdout",
     "output_type": "stream",
     "text": [
      "['16MA', '21MB', '15FB', '19MA', '54FB', '66MB', '17FB', '37MB', '35FB', '26MA', '58FB', '10FB', '17FA', '18MA', '04FB', '07FA', '24MA', '32FB', '06FB', '40FB', '21MA', '53FB', '05MA', '59FB', '30MB', '13FA', '12FA', '47MB', '20MA', '28FA', '01FA', '19MB', '49MB', '60MB', '65MB', '28MB', '18MB', '14MB', '22MA', '50FB', '07FB', '24MB', '43FB', '41MB', '16FB', '04FA', '09MA', '12MA', '02FA', '10FA', '33MB', '27FA', '23FA', '64FB', '15FA', '57FB', '52MB', '34FB', '51MB', '56MB', '05MB', '36MB', '06MA', '23FB', '22FB', '31FB', '63MB', '08FB', '61FB', '25FA', '27MB', '39FB', '46FB', '09FB', '11FA', '03FB', '25MB', '62MB', '13MB', '14MA', '26FB', '11FB', '48FB', '20MB']\n"
     ]
    }
   ],
   "source": [
    "print(train_ids)"
   ]
  },
  {
   "cell_type": "code",
   "execution_count": 16,
   "metadata": {
    "collapsed": false
   },
   "outputs": [
    {
     "name": "stdout",
     "output_type": "stream",
     "text": [
      "there are 16 files ready to be moved into the test set, should equal 16 by the way\n"
     ]
    }
   ],
   "source": [
    "test_wannabe = []\n",
    "for file in dir_list:\n",
    "    speaker_id = re.split('_', file)[0][2:-1]\n",
    "    if speaker_id in test_ids:\n",
    "        test_wannabe.append(file)\n",
    "        # I have add a file from this prefix into the test set, no need for more from this prefix\n",
    "print (\"there are {} files ready to be moved into the test set, should equal 16 by the way\".format(len(test_wannabe)))"
   ]
  },
  {
   "cell_type": "code",
   "execution_count": 20,
   "metadata": {
    "collapsed": false
   },
   "outputs": [
    {
     "name": "stdout",
     "output_type": "stream",
     "text": [
      "/Volumes/STARTRACK/deep-learning/LDC2015S04/interview_audio\n"
     ]
    }
   ],
   "source": [
    "directory = parent_path + \"/interview_audio\"\n",
    "if not os.path.exists(directory):\n",
    "    os.makedirs(directory)\n",
    "print (directory)"
   ]
  },
  {
   "cell_type": "code",
   "execution_count": 19,
   "metadata": {
    "collapsed": false,
    "scrolled": true
   },
   "outputs": [
    {
     "name": "stdout",
     "output_type": "stream",
     "text": [
      "total 0\r\n",
      "drwxr-xr-x  12 yehua  staff   408 Mar 24 12:35 \u001b[1m\u001b[36mtest\u001b[m\u001b[m/\r\n",
      "drwxr-xr-x  86 yehua  staff  2924 Mar 24 12:42 \u001b[1m\u001b[36mtrain\u001b[m\u001b[m/\r\n"
     ]
    }
   ],
   "source": [
    "ls -l ../interview_audio/"
   ]
  },
  {
   "cell_type": "code",
   "execution_count": 115,
   "metadata": {
    "collapsed": false
   },
   "outputs": [],
   "source": [
    "from shutil import copyfile\n",
    "directory += \"/test\"\n",
    "if not os.path.exists(directory):\n",
    "    os.makedirs(directory)\n",
    "    for file in test_wannabe:\n",
    "        speaker_id = re.split('_',file)[0][2:-1]\n",
    "        if not os.path.exists(directory + \"/\" + speaker_id):\n",
    "            os.makedirs(directory + \"/\" + speaker_id)\n",
    "        src = audio_path + \"/\" + file\n",
    "        dst = directory + \"/\" + speaker_id + \"/\" + file\n",
    "        copyfile(src, dst)"
   ]
  },
  {
   "cell_type": "code",
   "execution_count": 116,
   "metadata": {
    "collapsed": false
   },
   "outputs": [
    {
     "name": "stdout",
     "output_type": "stream",
     "text": [
      "total 0\r\n",
      "drwxr-xr-x  3 yehua  staff  102 Mar 24 12:35 \u001b[1m\u001b[36m01MA\u001b[m\u001b[m/\r\n",
      "drwxr-xr-x  3 yehua  staff  102 Mar 24 12:35 \u001b[1m\u001b[36m03FA\u001b[m\u001b[m/\r\n",
      "drwxr-xr-x  6 yehua  staff  204 Mar 24 12:35 \u001b[1m\u001b[36m08MA\u001b[m\u001b[m/\r\n",
      "drwxr-xr-x  6 yehua  staff  204 Mar 24 12:35 \u001b[1m\u001b[36m29FA\u001b[m\u001b[m/\r\n",
      "drwxr-xr-x  3 yehua  staff  102 Mar 24 12:35 \u001b[1m\u001b[36m29MB\u001b[m\u001b[m/\r\n",
      "drwxr-xr-x  3 yehua  staff  102 Mar 24 12:35 \u001b[1m\u001b[36m42FB\u001b[m\u001b[m/\r\n",
      "drwxr-xr-x  3 yehua  staff  102 Mar 24 12:35 \u001b[1m\u001b[36m44MB\u001b[m\u001b[m/\r\n",
      "drwxr-xr-x  3 yehua  staff  102 Mar 24 12:35 \u001b[1m\u001b[36m45FB\u001b[m\u001b[m/\r\n",
      "drwxr-xr-x  3 yehua  staff  102 Mar 24 12:35 \u001b[1m\u001b[36m55FB\u001b[m\u001b[m/\r\n",
      "drwxr-xr-x  3 yehua  staff  102 Mar 24 12:35 \u001b[1m\u001b[36m67MB\u001b[m\u001b[m/\r\n"
     ]
    }
   ],
   "source": [
    "ls -l interview_audio/test"
   ]
  },
  {
   "cell_type": "code",
   "execution_count": 21,
   "metadata": {
    "collapsed": true
   },
   "outputs": [],
   "source": [
    "# @train_ids stores speaker that is supposed to be in the train set\n",
    "from shutil import copyfile\n",
    "directory = parent_path + \"/interview_audio\"\n",
    "directory += \"/train\"\n",
    "if not os.path.exists(directory):\n",
    "    os.makedirs(directory)\n",
    "    for file in dir_list:\n",
    "        speaker_id = re.split('_',file)[0][2:-1]\n",
    "        if speaker_id in train_ids:\n",
    "            if not os.path.exists(directory + \"/\" + speaker_id):\n",
    "                os.makedirs(directory + \"/\" + speaker_id)\n",
    "            src = audio_path + \"/\" + file\n",
    "            dst = directory + \"/\" + speaker_id + \"/\" + file\n",
    "            copyfile(src, dst)"
   ]
  },
  {
   "cell_type": "code",
   "execution_count": 23,
   "metadata": {
    "collapsed": false
   },
   "outputs": [
    {
     "name": "stdout",
     "output_type": "stream",
     "text": [
      "total 0\r\n",
      "drwxr-xr-x  10 yehua  staff  340 Mar 24 12:40 01FA/\r\n",
      "drwxr-xr-x   8 yehua  staff  272 Mar 24 12:40 02FA/\r\n",
      "drwxr-xr-x   3 yehua  staff  102 Mar 24 12:38 03FB/\r\n",
      "drwxr-xr-x   7 yehua  staff  238 Mar 24 12:40 04FA/\r\n"
     ]
    }
   ],
   "source": [
    "ls -l ../interview_audio/train | head -5"
   ]
  },
  {
   "cell_type": "code",
   "execution_count": 24,
   "metadata": {
    "collapsed": false
   },
   "outputs": [
    {
     "name": "stdout",
     "output_type": "stream",
     "text": [
      "total 135328\r\n",
      "-rw-r--r--  1 yehua  staff   8452113 Mar 24 12:40 UI01FAZ_0101.flac\r\n",
      "-rw-r--r--  1 yehua  staff   8655988 Mar 24 12:40 UI01FAZ_0102.flac\r\n",
      "-rw-r--r--  1 yehua  staff   8481489 Mar 24 12:40 UI01FAZ_0103.flac\r\n",
      "-rw-r--r--  1 yehua  staff   8316971 Mar 24 12:40 UI01FAZ_0104.flac\r\n",
      "-rw-r--r--  1 yehua  staff   8474677 Mar 24 12:40 UI01FAZ_0105.flac\r\n",
      "-rw-r--r--  1 yehua  staff   7864642 Mar 24 12:40 UI01FAZ_0106.flac\r\n",
      "-rw-r--r--  1 yehua  staff  10334179 Mar 24 12:40 UI01FAZ_0107.flac\r\n",
      "-rw-r--r--  1 yehua  staff   8687814 Mar 24 12:40 UI01FAZ_0108.flac\r\n"
     ]
    }
   ],
   "source": [
    "ls -l ../interview_audio/train/01FA"
   ]
  },
  {
   "cell_type": "code",
   "execution_count": null,
   "metadata": {
    "collapsed": true
   },
   "outputs": [],
   "source": []
  }
 ],
 "metadata": {
  "kernelspec": {
   "display_name": "Python 3",
   "language": "python",
   "name": "python3"
  },
  "language_info": {
   "codemirror_mode": {
    "name": "ipython",
    "version": 3
   },
   "file_extension": ".py",
   "mimetype": "text/x-python",
   "name": "python",
   "nbconvert_exporter": "python",
   "pygments_lexer": "ipython3",
   "version": "3.5.1"
  }
 },
 "nbformat": 4,
 "nbformat_minor": 0
}
