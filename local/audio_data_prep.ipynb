{
 "cells": [
  {
   "cell_type": "code",
   "execution_count": null,
   "metadata": {
    "collapsed": true
   },
   "outputs": [],
   "source": [
    "#!/usr/bin/python3"
   ]
  },
  {
   "cell_type": "code",
   "execution_count": 1,
   "metadata": {
    "collapsed": true
   },
   "outputs": [],
   "source": [
    "__author__=\"Emily Hua\""
   ]
  },
  {
   "cell_type": "markdown",
   "metadata": {},
   "source": [
    "Go to kaldi/egs/code-switch directory and create itnerview_audio folder. In kaldi-trunk/egs/code-switch/interview_audio create two folders: train and test. Select ten speaker of your choice to represent testing data set. Use this speaker's 'speakerID' as a name for an another new folder in kaldi-trunk/egs/code-switch/interview_audio/test directory. Then put there all the audio files related to that person. Put the rest (84 speakers) into train folder - this will be your training data set. Also create subfolders for each speaker."
   ]
  },
  {
   "cell_type": "code",
   "execution_count": 2,
   "metadata": {
    "collapsed": false,
    "scrolled": false
   },
   "outputs": [
    {
     "name": "stdout",
     "output_type": "stream",
     "text": [
      "total 8991184\r\n",
      "-rwxr-xr-x  1 yehua  staff  48047643 Feb 16 12:56 NI01MAX_0101.flac*\r\n",
      "-rwxr-xr-x  1 yehua  staff  50547368 Feb 16 12:56 NI02FAX_0101.flac*\r\n",
      "-rwxr-xr-x  1 yehua  staff  64271878 Feb 16 12:56 NI03FBX_0101.flac*\r\n"
     ]
    }
   ],
   "source": [
    "ls -l ../LDC2015S04/seame_d2/data/interview/audio | head -4"
   ]
  },
  {
   "cell_type": "code",
   "execution_count": 3,
   "metadata": {
    "collapsed": false
   },
   "outputs": [
    {
     "name": "stdout",
     "output_type": "stream",
     "text": [
      "/Volumes/STARTRACK/deep-learning/code-switch/speech-to-text\n"
     ]
    }
   ],
   "source": [
    "import os\n",
    "parent_path = os.path.split(os.getcwd())[0]\n",
    "print (parent_path)"
   ]
  },
  {
   "cell_type": "code",
   "execution_count": 4,
   "metadata": {
    "collapsed": false
   },
   "outputs": [
    {
     "name": "stdout",
     "output_type": "stream",
     "text": [
      "there are total 210 of files in /Volumes/STARTRACK/deep-learning/code-switch/speech-to-text/LDC2015S04/seame_d2/data/interview/audio\n"
     ]
    }
   ],
   "source": [
    "audio_path = parent_path + '/LDC2015S04/seame_d2/data/interview/audio'\n",
    "dir_list = os.listdir(audio_path)[1:]\n",
    "print (\"there are total {} of files in {}\".format(len(dir_list), audio_path))"
   ]
  },
  {
   "cell_type": "code",
   "execution_count": 30,
   "metadata": {
    "collapsed": false
   },
   "outputs": [
    {
     "name": "stdout",
     "output_type": "stream",
     "text": [
      "there are 95 unique prefix sets\n"
     ]
    }
   ],
   "source": [
    "##################################\n",
    "#### create train and test set ###\n",
    "##################################\n",
    "import re\n",
    "from collections import defaultdict \n",
    "id_dic = defaultdict(int)\n",
    "for file in dir_list:\n",
    "    id_dic[re.split('_', file)[0]] += 1\n",
    "print ('there are {} unique prefix sets'.format(len(id_dic)))"
   ]
  },
  {
   "cell_type": "code",
   "execution_count": 44,
   "metadata": {
    "collapsed": false
   },
   "outputs": [
    {
     "name": "stdout",
     "output_type": "stream",
     "text": [
      "speaker ids and number of recordings they have: defaultdict(<class 'int'>, {'NI28MBP': 1, 'UI01FAZ': 8, 'UI08MAZ': 4, 'NI25MBQ': 1, 'UI07FAZ': 5, 'UI23FAZ': 5, 'UI17FAZ': 5, 'NI02FAX': 1, 'NI27MBQ': 1, 'NI09FBP': 2, 'NI67MBQ': 1, 'NI31FBP': 1, 'UI04FAZ': 5, 'UI12FAZ': 5, 'UI18MAZ': 5, 'UI03FAZ': 1, 'NI46FBQ': 2, 'UI28FAZ': 5, 'UI02FAZ': 5, 'NI56MBX': 1, 'NI62MBQ': 1, 'NI14MBP': 1, 'NI59FBQ': 1, 'NI37MBP': 1, 'NI63MBP': 1, 'NI26FBP': 1, 'NI21MBQ': 1, 'NI61FBP': 1, 'UI20MAZ': 5, 'NI41MBP': 1, 'NI52MBQ': 2, 'NI65MBP': 1, 'NI18MBP': 1, 'NI57FBQ': 1, 'UI06MAZ': 5, 'NI58FBP': 1, 'NI49MBP': 1, 'NI60MBP': 1, 'NI45FBP': 1, 'NI50FBQ': 1, 'NI55FBP': 1, 'NI42FBQ': 1, 'UI05MAZ': 5, 'NI54FBQ': 1, 'NI51MBP': 1, 'NI66MBQ': 1, 'NI35FBP': 1, 'NI05MBQ': 1, 'NI10FBP': 1, 'UI10FAZ': 5, 'NI39FBP': 1, 'NI53FBP': 1, 'NI03FBX': 1, 'NI33MBP': 1, 'UI27FAZ': 5, 'NI47MBP': 1, 'NI23FBQ': 1, 'NI36MBQ': 1, 'UI25FAZ': 5, 'NI15FBQ': 1, 'NI32FBQ': 1, 'NI48FBQ': 1, 'NI12MAP': 1, 'UI22MAZ': 5, 'NI24MBP': 1, 'UI26MAZ': 5, 'UI15FAZ': 5, 'UI09MAZ': 5, 'NI30MBQ': 1, 'NI16FBP': 1, 'UI14MAZ': 5, 'NI17FBQ': 1, 'NI01MAX': 1, 'NI43FBP': 1, 'NI04FBX': 1, 'NI13MBQ': 1, 'UI29FAZ': 4, 'UI24MAZ': 5, 'NI34FBQ': 1, 'NI29MBP': 1, 'NI44MBQ': 1, 'NI06FBP': 1, 'NI22FBP': 1, 'UI11FAZ': 3, 'UI16MAZ': 5, 'NI11FBP': 1, 'NI08FBP': 2, 'NI07FBQ': 1, 'UI19MAZ': 5, 'NI20MBP': 1, 'NI64FBQ': 1, 'UI13FAZ': 5, 'NI19MBQ': 1, 'UI21MAZ': 5, 'NI40FBQ': 1})\n"
     ]
    }
   ],
   "source": [
    "print (\"speaker ids and number of recordings they have: {}\".format(id_dic))"
   ]
  },
  {
   "cell_type": "code",
   "execution_count": 10,
   "metadata": {
    "collapsed": true
   },
   "outputs": [],
   "source": [
    "test_short_ids = ['01MA', '03FA','08MA', '29FA','29MB','42FB','44MB','45FB','67MB','55FB']"
   ]
  },
  {
   "cell_type": "code",
   "execution_count": 14,
   "metadata": {
    "collapsed": false,
    "scrolled": true
   },
   "outputs": [
    {
     "name": "stdout",
     "output_type": "stream",
     "text": [
      "there are 85 speaker ids in the training set, should be 85\n",
      "there are 10 speaker ids in the testing set, should be 10\n"
     ]
    }
   ],
   "source": [
    "train_ids = []\n",
    "test_ids = []\n",
    "for key in id_dic:\n",
    "    if key[2:-1] not in test_short_ids:\n",
    "        train_ids.append(key)\n",
    "    else: \n",
    "        test_ids.append(key)\n",
    "print ('there are {} speaker ids in the training set, should be 85'.format(len(train_ids)))\n",
    "print ('there are {} speaker ids in the testing set, should be 10'.format(len(test_ids)))"
   ]
  },
  {
   "cell_type": "code",
   "execution_count": 39,
   "metadata": {
    "collapsed": false
   },
   "outputs": [
    {
     "name": "stdout",
     "output_type": "stream",
     "text": [
      "speaker ids in the test set: ['UI08MAZ', 'NI67MBQ', 'UI03FAZ', 'NI45FBP', 'NI55FBP', 'NI42FBQ', 'NI01MAX', 'UI29FAZ', 'NI29MBP', 'NI44MBQ']\n"
     ]
    }
   ],
   "source": [
    "print (\"speaker ids in the test set: {}\".format(test_ids))"
   ]
  },
  {
   "cell_type": "code",
   "execution_count": 38,
   "metadata": {
    "collapsed": false
   },
   "outputs": [
    {
     "name": "stdout",
     "output_type": "stream",
     "text": [
      "speaker ids in the train set: ['NI28MBP', 'UI01FAZ', 'NI25MBQ', 'UI07FAZ', 'UI23FAZ', 'UI17FAZ', 'NI02FAX', 'NI27MBQ', 'NI09FBP', 'NI31FBP', 'UI04FAZ', 'UI12FAZ', 'UI18MAZ', 'NI46FBQ', 'UI28FAZ', 'UI02FAZ', 'NI56MBX', 'NI62MBQ', 'NI14MBP', 'NI59FBQ', 'NI37MBP', 'NI63MBP', 'NI26FBP', 'NI21MBQ', 'NI61FBP', 'UI20MAZ', 'NI41MBP', 'NI52MBQ', 'NI65MBP', 'NI18MBP', 'NI57FBQ', 'UI06MAZ', 'NI58FBP', 'NI49MBP', 'NI60MBP', 'NI50FBQ', 'UI05MAZ', 'NI54FBQ', 'NI51MBP', 'NI66MBQ', 'NI35FBP', 'NI05MBQ', 'NI10FBP', 'UI10FAZ', 'NI39FBP', 'NI53FBP', 'NI03FBX', 'NI33MBP', 'UI27FAZ', 'NI47MBP', 'NI23FBQ', 'NI36MBQ', 'UI25FAZ', 'NI15FBQ', 'NI32FBQ', 'NI48FBQ', 'NI12MAP', 'UI22MAZ', 'NI24MBP', 'UI26MAZ', 'UI15FAZ', 'UI09MAZ', 'NI30MBQ', 'NI16FBP', 'UI14MAZ', 'NI17FBQ', 'NI43FBP', 'NI04FBX', 'NI13MBQ', 'UI24MAZ', 'NI34FBQ', 'NI06FBP', 'NI22FBP', 'UI11FAZ', 'UI16MAZ', 'NI11FBP', 'NI08FBP', 'NI07FBQ', 'UI19MAZ', 'NI20MBP', 'NI64FBQ', 'UI13FAZ', 'NI19MBQ', 'UI21MAZ', 'NI40FBQ']\n"
     ]
    }
   ],
   "source": [
    "print (\"speaker ids in the train set: {}\".format(train_ids))"
   ]
  },
  {
   "cell_type": "code",
   "execution_count": 13,
   "metadata": {
    "collapsed": false
   },
   "outputs": [
    {
     "name": "stdout",
     "output_type": "stream",
     "text": [
      "there are 16 files ready to be moved into the test set, should equal 16 by the way\n"
     ]
    }
   ],
   "source": [
    "test_wannabe = []\n",
    "for file in dir_list:\n",
    "    speaker_id = re.split('_', file)[0]\n",
    "    if speaker_id in test_ids:\n",
    "        test_wannabe.append(file)\n",
    "        # I have add a file from this prefix into the test set, no need for more from this prefix\n",
    "print (\"there are {} files ready to be moved into the test set, should equal 16 by the way\".format(len(test_wannabe)))"
   ]
  },
  {
   "cell_type": "code",
   "execution_count": 15,
   "metadata": {
    "collapsed": false
   },
   "outputs": [
    {
     "name": "stdout",
     "output_type": "stream",
     "text": [
      "/Volumes/STARTRACK/deep-learning/code-switch/speech-to-text/interview_audio\n"
     ]
    }
   ],
   "source": [
    "directory = parent_path + \"/interview_audio\"\n",
    "if not os.path.exists(directory):\n",
    "    os.makedirs(directory)\n",
    "print (directory)"
   ]
  },
  {
   "cell_type": "code",
   "execution_count": 16,
   "metadata": {
    "collapsed": false,
    "scrolled": true
   },
   "outputs": [],
   "source": [
    "ls -l ../interview_audio/"
   ]
  },
  {
   "cell_type": "code",
   "execution_count": 17,
   "metadata": {
    "collapsed": false
   },
   "outputs": [
    {
     "name": "stdout",
     "output_type": "stream",
     "text": [
      "loading audios into /Volumes/STARTRACK/deep-learning/code-switch/speech-to-text/interview_audio/test\n",
      "loading finished\n"
     ]
    }
   ],
   "source": [
    "from shutil import copyfile\n",
    "directory += \"/test\"\n",
    "print (\"loading audios into {}\".format(directory))\n",
    "if not os.path.exists(directory):\n",
    "    os.makedirs(directory)\n",
    "    for file in test_wannabe:\n",
    "        speaker_id = re.split('_',file)[0]\n",
    "        if not os.path.exists(directory + \"/\" + speaker_id):\n",
    "            os.makedirs(directory + \"/\" + speaker_id)\n",
    "        src = audio_path + \"/\" + file\n",
    "        dst = directory + \"/\" + speaker_id + \"/\" + file\n",
    "        copyfile(src, dst)\n",
    "print (\"loading finished\")"
   ]
  },
  {
   "cell_type": "code",
   "execution_count": 18,
   "metadata": {
    "collapsed": false
   },
   "outputs": [
    {
     "name": "stdout",
     "output_type": "stream",
     "text": [
      "total 0\r\n",
      "drwxr-xr-x  3 yehua  staff  102 Mar 27 23:00 \u001b[1m\u001b[36mNI01MAX\u001b[m\u001b[m/\r\n",
      "drwxr-xr-x  3 yehua  staff  102 Mar 27 23:00 \u001b[1m\u001b[36mNI29MBP\u001b[m\u001b[m/\r\n",
      "drwxr-xr-x  3 yehua  staff  102 Mar 27 23:00 \u001b[1m\u001b[36mNI42FBQ\u001b[m\u001b[m/\r\n",
      "drwxr-xr-x  3 yehua  staff  102 Mar 27 23:00 \u001b[1m\u001b[36mNI44MBQ\u001b[m\u001b[m/\r\n",
      "drwxr-xr-x  3 yehua  staff  102 Mar 27 23:00 \u001b[1m\u001b[36mNI45FBP\u001b[m\u001b[m/\r\n",
      "drwxr-xr-x  3 yehua  staff  102 Mar 27 23:00 \u001b[1m\u001b[36mNI55FBP\u001b[m\u001b[m/\r\n",
      "drwxr-xr-x  3 yehua  staff  102 Mar 27 23:00 \u001b[1m\u001b[36mNI67MBQ\u001b[m\u001b[m/\r\n",
      "drwxr-xr-x  3 yehua  staff  102 Mar 27 23:00 \u001b[1m\u001b[36mUI03FAZ\u001b[m\u001b[m/\r\n",
      "drwxr-xr-x  6 yehua  staff  204 Mar 27 23:00 \u001b[1m\u001b[36mUI08MAZ\u001b[m\u001b[m/\r\n",
      "drwxr-xr-x  6 yehua  staff  204 Mar 27 23:00 \u001b[1m\u001b[36mUI29FAZ\u001b[m\u001b[m/\r\n"
     ]
    }
   ],
   "source": [
    "ls -l ../interview_audio/test"
   ]
  },
  {
   "cell_type": "code",
   "execution_count": 19,
   "metadata": {
    "collapsed": false
   },
   "outputs": [
    {
     "name": "stdout",
     "output_type": "stream",
     "text": [
      "loading audios into /Volumes/STARTRACK/deep-learning/code-switch/speech-to-text/interview_audio/train\n",
      "loading finished\n"
     ]
    }
   ],
   "source": [
    "# @train_ids stores speaker that is supposed to be in the train set\n",
    "from shutil import copyfile\n",
    "directory = parent_path + \"/interview_audio\"\n",
    "directory += \"/train\"\n",
    "print (\"loading audios into {}\".format(directory))\n",
    "if not os.path.exists(directory):\n",
    "    os.makedirs(directory)\n",
    "    for file in dir_list:\n",
    "        speaker_id = re.split('_',file)[0]\n",
    "        if speaker_id in train_ids:\n",
    "            if not os.path.exists(directory + \"/\" + speaker_id):\n",
    "                os.makedirs(directory + \"/\" + speaker_id)\n",
    "            src = audio_path + \"/\" + file\n",
    "            dst = directory + \"/\" + speaker_id + \"/\" + file\n",
    "            copyfile(src, dst)\n",
    "print (\"loading finished\")"
   ]
  },
  {
   "cell_type": "code",
   "execution_count": 20,
   "metadata": {
    "collapsed": false
   },
   "outputs": [
    {
     "name": "stdout",
     "output_type": "stream",
     "text": [
      "total 0\r\n",
      "drwxr-xr-x   3 yehua  staff  102 Mar 27 23:01 NI02FAX/\r\n",
      "drwxr-xr-x   3 yehua  staff  102 Mar 27 23:01 NI03FBX/\r\n",
      "drwxr-xr-x   3 yehua  staff  102 Mar 27 23:01 NI04FBX/\r\n",
      "drwxr-xr-x   3 yehua  staff  102 Mar 27 23:01 NI05MBQ/\r\n"
     ]
    }
   ],
   "source": [
    "ls -l ../interview_audio/train | head -5"
   ]
  },
  {
   "cell_type": "code",
   "execution_count": 33,
   "metadata": {
    "collapsed": false
   },
   "outputs": [
    {
     "name": "stdout",
     "output_type": "stream",
     "text": [
      "      85\r\n"
     ]
    }
   ],
   "source": [
    "ls -1 ../interview_audio/train | wc -l "
   ]
  },
  {
   "cell_type": "code",
   "execution_count": 34,
   "metadata": {
    "collapsed": false
   },
   "outputs": [
    {
     "name": "stdout",
     "output_type": "stream",
     "text": [
      "      10\r\n"
     ]
    }
   ],
   "source": [
    "ls -1 ../interview_audio/test | wc -l"
   ]
  },
  {
   "cell_type": "code",
   "execution_count": null,
   "metadata": {
    "collapsed": true
   },
   "outputs": [],
   "source": []
  }
 ],
 "metadata": {
  "kernelspec": {
   "display_name": "Python 3",
   "language": "python",
   "name": "python3"
  },
  "language_info": {
   "codemirror_mode": {
    "name": "ipython",
    "version": 3
   },
   "file_extension": ".py",
   "mimetype": "text/x-python",
   "name": "python",
   "nbconvert_exporter": "python",
   "pygments_lexer": "ipython3",
   "version": "3.5.1"
  }
 },
 "nbformat": 4,
 "nbformat_minor": 0
}
