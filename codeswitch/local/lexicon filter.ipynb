{
 "cells": [
  {
   "cell_type": "code",
   "execution_count": 256,
   "metadata": {
    "collapsed": false
   },
   "outputs": [],
   "source": [
    "import codecs\n",
    "import re"
   ]
  },
  {
   "cell_type": "code",
   "execution_count": 257,
   "metadata": {
    "collapsed": false
   },
   "outputs": [],
   "source": [
    "# from https://segmentfault.com/q/1010000000732038\n",
    "# to detect english character ONLY\n",
    "def isAlpha(word):\n",
    "    try:\n",
    "        return word.encode('ascii').isalpha()\n",
    "    except UnicodeEncodeError:\n",
    "        return False\n"
   ]
  },
  {
   "cell_type": "code",
   "execution_count": 258,
   "metadata": {
    "collapsed": false
   },
   "outputs": [
    {
     "name": "stdout",
     "output_type": "stream",
     "text": [
      "Finish loading cmu dictionary\n"
     ]
    }
   ],
   "source": [
    "filename_cmu = \"cmudict-0.7b\"\n",
    "f = open(filename_cmu,\"r\")\n",
    "d = dict()\n",
    "max_num = 0\n",
    "for line in f.readlines():\n",
    "    if line[0:3] != \";;;\":\n",
    "        line = line.split(\"  \",1)\n",
    "        d[line[0]] = line[1]\n",
    "        if line[0][-1] == \")\":\n",
    "            try: \n",
    "                num_cur = int(line[0][-2])      \n",
    "                if int(line[0][-2]) > max_num:\n",
    "                    max_num = num_cur\n",
    "            except:\n",
    "                continue\n",
    "print(\"Finish loading cmu dictionary\")"
   ]
  },
  {
   "cell_type": "code",
   "execution_count": 259,
   "metadata": {
    "collapsed": false,
    "scrolled": true
   },
   "outputs": [
    {
     "name": "stdout",
     "output_type": "stream",
     "text": [
      "Finish reading lines\n"
     ]
    }
   ],
   "source": [
    "dir = \"./transcript\"\n",
    "filenames = os.listdir(dir)\n",
    "text = []\n",
    "for filename in filenames:\n",
    "    if filename[-4:] == \".txt\":\n",
    "        with codecs.open(dir+\"/\"+filename, 'r', 'utf-8') as f:\n",
    "            for line in f.readlines():\n",
    "                text += [line]\n",
    "            f.close()\n",
    "            #print(\"Done \"+ filename)\n",
    "print(\"Finish reading lines\")"
   ]
  },
  {
   "cell_type": "code",
   "execution_count": 260,
   "metadata": {
    "collapsed": false
   },
   "outputs": [
    {
     "name": "stdout",
     "output_type": "stream",
     "text": [
      "Finish concatenating words\n",
      "Number of utterance: 54929\n",
      "Number of utterance with unparsed elements: 204\n",
      "Number of utterance with non-transcribable sounds: 8823\n"
     ]
    }
   ],
   "source": [
    "words = []\n",
    "line_waste_count = 0\n",
    "d_unparse = dict()\n",
    "idx = -1\n",
    "\n",
    "for sentence in text:\n",
    "    idx += 1\n",
    "    #if \"马来糕\" in sentence:\n",
    "    #    print(sentence)\n",
    "    #    print(idx)\n",
    "    sentence_origin = sentence\n",
    "    sentence = sentence.split() # 1st element -- audio file id, 2nd element -- start time, 3rd element -- end time\n",
    "    words_cur = sentence[4:]\n",
    "    unparse = False\n",
    "    \n",
    "    idx_cur = -1\n",
    "    for word in words_cur: # filter out concatenated characters having Chinese characters, with length over 6\n",
    "        idx_cur += 1\n",
    "        \n",
    "        # deal with wrong transcription like co[mm]on (idx: 25799) and co[mm]unication (idx: 26347)\n",
    "        if \"]\" in word and word[-1] != \"]\":\n",
    "            word = word.replace(\"]\",\"\")\n",
    "            word = word.replace(\"[\",\"\")\n",
    "\n",
    "        # deal with pronuncisation of single letter like \"i. t.\"(idx: 48495)\n",
    "        if word[-1] == \".\" and len(word) == 2:\n",
    "            word = word[0]\n",
    "        \n",
    "        words_cur[idx_cur] = word\n",
    "    \n",
    "        \n",
    "        # filter out unparsed element (unparse = F -> unparse = T)\n",
    "        # for example, [leh]每次上学的时候daddy都会买糕点给我吃买马来糕#kuih# (idx: 53628)\n",
    "        try:\n",
    "            d[word.upper()]\n",
    "        except:\n",
    "            word_split = word.split(\"-\")\n",
    "            if len(word_split) > 1: # pass if it is in the form of \"a-b\"\n",
    "                continue\n",
    "            elif len(word) < 15 and (word[-1] == \"]\" or word[-1] ==\")\" or word[-1] ==\"#\" or word[0] == \"[\" or word[0] == \"(\" or word[0] == \"#\"): # pass if it's a non-transcribable sound\n",
    "                continue\n",
    "            elif word[-1] == \"%\": # %a% seems like special nouns, such as name (%chelsia%, idx 26701), game (%viwawa%, idx 21513)\n",
    "                continue\n",
    "            elif isAlpha(word.replace(\"'\",\"\")):\n",
    "                continue\n",
    "            elif isAlpha(word.replace('\"',\"\")):\n",
    "                continue\n",
    "            elif isAlpha(word.replace(\".\",\"\")):\n",
    "                continue\n",
    "            else:\n",
    "                if len(word) > 6 and word.isalpha() == False:\n",
    "                    unparse = True\n",
    "        finally:\n",
    "            if word[-1] == \"]\" or word[-1] ==\")\" or word[-1] ==\"#\":\n",
    "                line_waste_count += 1\n",
    "                break\n",
    "    \n",
    "    if unparse:\n",
    "        d_unparse[idx] = [sentence_origin]\n",
    "    \n",
    "    words += words_cur\n",
    "\n",
    "print(\"Finish concatenating words\")\n",
    "print(\"Number of utterance: \" + str(len(text)))\n",
    "print(\"Number of utterance with unparsed elements: \" + str(len(d_unparse)))\n",
    "print(\"Number of utterance with non-transcribable sounds: \" + str(line_waste_count))\n"
   ]
  },
  {
   "cell_type": "code",
   "execution_count": 261,
   "metadata": {
    "collapsed": false
   },
   "outputs": [
    {
     "data": {
      "text/plain": [
       "{11754: ['33NC43FBQ_0101\\t2551645\\t2555415\\tyou know  \"sara\\'s\" speaking thing it got cancelled 两次 [eh]\\n'],\n",
       " 19959: ['NI22FBP_0101\\t668052\\t669342\\t他  对  她  有  ·䞠\\x84\\x9f枠§\\x89\\n'],\n",
       " 36795: ['UI03FAZ_0101\\t520078\\t526209\\tso call 那些support 的人他们就会把那些啊p. o. 的informations\\n'],\n",
       " 44981: ['UI15FAZ_0104\\t646953\\t653869\\t又可以穿的比较 sexy 一点咯有有男生去了#sei#有 #paiseh# [wo]\\n'],\n",
       " 45126: ['UI16MAZ_0101\\t334474\\t339800\\t就 正式跟user有contact的就是p. c. service咯 那个修理电脑部门\\n'],\n",
       " 45129: ['UI16MAZ_0101\\t367367\\t370912\\t啊 outlook或者其他s. a. p. \\n'],\n",
       " 45199: ['UI16MAZ_0101\\t814554\\t825136\\t对 就像平常你们m. s. n. 或者 communicator 你跟朋友讲话 你可以同时间跟两个到三个讲话的嘛 \\n'],\n",
       " 45282: ['UI16MAZ_0102\\t276713\\t281922\\t他们 对就是他们就是他们p. s. n. 咯就是 p. s.  play station network \\n'],\n",
       " 45419: ['UI16MAZ_0103\\t145562\\t151446\\t但是有时他开始讲的那些故事拖拖一整集都没有内容的 就很#sien#咯\\n'],\n",
       " 45496: ['UI16MAZ_0103\\t747433\\t752878\\t哦那个我还不能啦 但是我？了起来大约大约想想这样才可以啦 \\n'],\n",
       " 45518: ['UI16MAZ_0103\\t902106\\t910555\\t基本上lens的话 基本上lens的话你越好的话[leh] 拍出来时越清的 不会 不会变成旧的\\n'],\n",
       " 45536: ['UI16MAZ_0103\\t1046177\\t1053922\\t太过clear太过漂亮了 然后如果你晚上拍的话有时你i. s. o. 开高会有那些noise出来一点点点点这样\\n'],\n",
       " 45548: ['UI16MAZ_0103\\t1154061\\t1158788\\t就是拉开光给他关去 这样一#piak#下 spring这样东西的\\n'],\n",
       " 45571: ['UI16MAZ_0104\\t130810\\t136572\\t看动作片比较多 然后[err]喜剧之类东西[loh]\\n'],\n",
       " 45599: ['UI16MAZ_0104\\t306464\\t311542\\t[err] avatar [loh]之前那个就是那个它啊graphic很漂亮[loh]\\n'],\n",
       " 45604: ['UI16MAZ_0104\\t330770\\t336528\\t其实常常喜欢robot的东西就是看到哇有robot就 会有比较好感一点点这样[loh]\\n'],\n",
       " 45633: ['UI16MAZ_0104\\t536264\\t546970\\t大约讲[err]比较少人了[loh] 然后中间拜一到拜五还是很多人的吗 就是我们盖下去 加埋他们就是比较多人[loh]\\n'],\n",
       " 45641: ['UI16MAZ_0104\\t600097\\t609495\\t他就是  过后他看 就是公司跟他签contract说你一年之内不可以离开[loh] 就是他学他 给他钱去学\\n'],\n",
       " 45665: ['UI16MAZ_0104\\t768543\\t776114\\t所以有时有些不是很好 它的design不是很好看[loh] 然后现在 好像是日本做回一样的东西\\n'],\n",
       " 45672: ['UI16MAZ_0104\\t822557\\t831354\\t然后我玩玩玩玩玩到三十二就没有东西做了 它有不开新的 然后玩玩玩久了又累了#sien#了 就没有玩啦\\n'],\n",
       " 45678: ['UI16MAZ_0104\\t875272\\t881840\\t有啊 拍了选了比较好看 的就post [loh]看 自己喜欢放作这样罢了[loh]\\n'],\n",
       " 45688: ['UI16MAZ_0104\\t929924\\t938295\\t因为它会经根据你[err]之前看过什么东西它会 选比较类似的东西出来[loh]看有什么新的按按看[loh]\\n'],\n",
       " 45699: ['UI16MAZ_0104\\t1029588\\t1035908\\t有我不是说 不是 因因为有时很#sien#我不太喜欢慢慢按慢慢按 \\n'],\n",
       " 45704: ['UI16MAZ_0104\\t1059909\\t1068426\\t然后有些好玩没有因为它一路走一路打嘛 然后 p. s. three或者电脑的话就是喜欢那种[err]   \\n'],\n",
       " 45707: ['UI16MAZ_0104\\t1084834\\t1093664\\t很暴力然后 很#sien#的那个game好像 没有什么目的这样驾个车抢人家车\\n'],\n",
       " 45708: ['UI16MAZ_0104\\t1093664\\t1102208\\t基本上他是有mission啦但是不会玩 那个抢车抢motor跑来跑去这样罢了[loh] 就是\\n'],\n",
       " 45719: ['UI16MAZ_0105\\t40025\\t45178\\t就是一大早的时候 他们u. s.的人还没有睡 他们打电话进来 \\n'],\n",
       " 45741: ['UI16MAZ_0105\\t198486\\t207295\\t他的那个phone menu 那边有得有得选一英文 二华语 [err]然后三spanish·然后四日语这样的东西\\n'],\n",
       " 45748: ['UI16MAZ_0105\\t246702\\t253723\\t然后 如果你每个call 完过后你可以off 几分钟来做你的那个document这样[loh] 差不多·\\n'],\n",
       " 45781: ['UI16MAZ_0105\\t494899\\t506126\\t可能有的话都是去拿一些别的那种course啊 很多人缺少那种c. c. n. a.啦什么 看看[loh] 看那个会比较\\n'],\n",
       " 45823: ['UI17FAZ_0101\\t175361\\t182803\\tliao for advance我不是很懂它的那个syllabus lah因为我们没有教吗 它而且advance是在#KL#才有罢了\\n'],\n",
       " 45824: ['UI17FAZ_0101\\t183044\\t192031\\t不过呢so far听那些 x-student的feedback lah就是他们有些从#KL#回来的呢 他们是讲说会比较难一点点咯就是\\n'],\n",
       " 45836: ['UI17FAZ_0101\\t272902\\t281779\\tfor #SPM#你就要看它的那个credit loh ehm 那个那个subject credits loh假如是three four credits呢就先进cert loh\\n'],\n",
       " 45853: ['UI17FAZ_0101\\t345211\\t350921\\tfor那个IT的学生呢 他们会go further in err c sharp ah asp.net那些language loh\\n'],\n",
       " 45876: ['UI17FAZ_0101\\t474107\\t482655\\t不过for #STPM#的学生我自己是觉得他们有些好像听说啦 好像是直接没有来拿diploma liao直接先进#UTAR#拿degree liao loh\\n'],\n",
       " 45896: ['UI17FAZ_0101\\t597792\\t600932\\tso far听过三四个case进#USM#罢了\\n'],\n",
       " 45952: ['UI17FAZ_0102\\t14200\\t19841\\tso far 我也不是很清楚坦白讲因为advance是在#KL#\\n'],\n",
       " 45956: ['UI17FAZ_0102\\t32351\\t36634\\t可能另一半 那个那个另一半里面呢有些会去#UTAR#\\x7f\\n'],\n",
       " 45971: ['UI17FAZ_0102\\t145287\\t152216\\tdiploma loh因为他们#MQA#最minimum的requirement是for diploma的学生你最少要一个degree mah\\n'],\n",
       " 46040: ['UI17FAZ_0102\\t570894\\t582271\\t她一个地方和另一个地方 它有两个不同的park的 所以你要从另一个park去另一个又去另一个park hor either你要做#MRT#还是你要坐cable car的你知道吗\\n'],\n",
       " 46226: ['UI17FAZ_0103\\t751720\\t754727\\tah sorry我不吃#kim gary#的 呵呵呵\\n'],\n",
       " 46385: ['UI17FAZ_0104\\t837689\\t841851\\t了你要人家每个学期都这样写信给你 meh 很#sien#的哦\\n'],\n",
       " 46427: ['UI17FAZ_0105\\t154216\\t163247\\t了我想 哎呀 我去旅行是去relax的吗 这样这样#percik#这样啊因为我弟弟之前比我早几个月去吗 他去八天\\n'],\n",
       " 46478: ['UI17FAZ_0105\\t464237\\t475257\\t我不知道啦可能一些state很好住啦因为US太大了吗 好像我朋友住在washington D.C.这样 我本来要飞去washington D.C.先找她才跟我老公去arizona的\\n'],\n",
       " 46515: ['UI17FAZ_0105\\t723676\\t735355\\t因为他讲从这边#juru#下到来intel hor不知道是二十多kilometer罢了 去#kulim#三十多kilometer 又要过到两个tol虽然是tol是company付啦\\n'],\n",
       " 46520: ['UI17FAZ_0105\\t757429\\t767371\\t没有它其实是一间#farlim#的 了一间呢大山脚有 了另一间不知道又哪里啊 啊又一间#terjami#靠近#TAR#college的\\n'],\n",
       " 46547: ['UI18MAZ_0101\\t178752\\t189188\\t最 far 我看到他们每个都有各有各样不同啦有些是要很用 command based 的有些比较有g. u. i. so far 我用到最好用的应该在ubuntu\\n'],\n",
       " 46556: ['UI18MAZ_0101\\t235553\\t247934\\t所以他们是讲用那个比较好啦 其他的我是觉得一样啦但是跟我比较 windows 的话啦，unix 比较stable 过windows windows 很很容易crash 啊\\n'],\n",
       " 46613: ['UI18MAZ_0102\\t114561\\t118864\\twindows 不一样嘛他们有g. u. i. mode 然后display 出来容易找一点 \\n'],\n",
       " 46750: ['UI18MAZ_0102\\t1012838\\t1018624\\t其实那server 的 for windows 的是比较漂亮他g. u. i. 啊他比较好用\\n'],\n",
       " 46774: ['UI18MAZ_0102\\t1146613\\t1156906\\t因为他们server 啊每次来都是很新的可能他们来的c. d. 的 driver 不不够新 [ho] 我们可能要去他们的vendor 的web site 去找他们最新的driver 来 install\\n'],\n",
       " 48088: ['UI20MAZ_0102\\t724943\\t730096\\t因为之前之前也是没有什么 idea什么是s. a. p.的\\n'],\n",
       " 48495: ['UI21MAZ_0101\\t689491\\t700786\\t可能出来我发现我是不喜欢 i. t. 的 那时候如果现在是我工作我又有钱赚然后有可以得到经验如果又知道是 o. k. 的话到时半工读啰会比较好啦[mmm] \\n'],\n",
       " 48836: ['UI21MAZ_0103\\t1074374\\t1084635\\t然后她一直很 negative 的跟你讲这个不能这个不能这个不能一直洗你脑然后给到洗到你怕了你不敢选了你不能选了[ha] 你就跟她意见是这样的\\n'],\n",
       " 50075: ['UI23FAZ_0101\\t542698\\t552957\\t在里面了的so 如果一个人要真正学啊a. node b. node c. node 在那里你不用去学一个一个不一样的instrument\\n'],\n",
       " 50086: ['UI23FAZ_0101\\t612352\\t621131\\t但是用了这个program at least 知道 okay它的line是怎样的a. b. c. d. node 是在那里\\n'],\n",
       " 50134: ['UI23FAZ_0101\\t959226\\t964746\\t不一样的music so 如果你是打#kompang#你打那种#serunai# #gong#\\n'],\n",
       " 50139: ['UI23FAZ_0101\\t1016536\\t1026263\\t但是[err]如果是讲gitar 的话啦啊如果chinese用他们其实也是用a. b. c. 那种的啊musical node\\n'],\n",
       " 50203: ['UI23FAZ_0102\\t362388\\t366927\\tthen 他们是啊没有那种#sembahyang#什么的so\\n'],\n",
       " 50228: ['UI23FAZ_0102\\t553652\\t559707\\t我我给i. p. v. six我不要啊我i. p. v. four 也不用给咯\\n'],\n",
       " 50234: ['UI23FAZ_0102\\t588788\\t596203\\tthen 两那个两个million还under control他们每一个i. p. distribute to house home user 他们可以charge\\n'],\n",
       " 50244: ['UI23FAZ_0102\\t663966\\t669028\\tthen 你ship 过来了第一次你要用他们的a. t. and t. 的 card [loh]\\n'],\n",
       " 50259: ['UI23FAZ_0102\\t768238\\t777883\\tso 很麻烦这个i. phone我不要讲我我accidentally update 还是什么啦它跌倒了还是可以用不用restart喔\\n'],\n",
       " 50266: ['UI23FAZ_0102\\t809906\\t815987\\t但是in term of touch screen [ah]如果你去compare跟i. phone [ah]真的差很远\\n'],\n",
       " 50312: ['UI23FAZ_0102\\t1167585\\t1175997\\t[ha] 其实那个啊receptionist问我要three d.还是要普通的 then我拿普通的因为我以为这个\\n'],\n",
       " 50315: ['UI23FAZ_0102\\t1191317\\t1197322\\t没有没有gurney 有three d.但是queensbay跟我讲因为我的朋友在那边做\\n'],\n",
       " 50351: ['UI23FAZ_0103\\t279893\\t289690\\t我们有apply grant但是我现在啊还拿着school的什么g. a [ah]\\n'],\n",
       " 50366: ['UI23FAZ_0103\\t411664\\t417125\\t我啊finish 我的f. y. p.过后我已经跟nav six做工了\\n'],\n",
       " 50367: ['UI23FAZ_0103\\t422626\\t431407\\t有有有啊跟nav siz做工有pay但是不是penang based的咯so 每一次就要赶去k. l.\\n'],\n",
       " 50370: ['UI23FAZ_0103\\t438807\\t441897\\t要k. l.他们很push i. p. v. six的\\n'],\n",
       " 50373: ['UI23FAZ_0103\\t454420\\t463214\\t没有没有i. p. v. four了的so 他们要啊赶i. p. v. six 要知道怎样deploy全部了\\n'],\n",
       " 50394: ['UI23FAZ_0103\\t610442\\t617199\\tthen 如果你太多i. p.的话[leh]人家不会complaint但是in term of management 会比较难\\n'],\n",
       " 50403: ['UI23FAZ_0103\\t667292\\t674329\\t如果发生什么东西那个i. p.是来那里的如果有hacking的话谁hack的from which sector\\n'],\n",
       " 50434: ['UI23FAZ_0103\\t884589\\t887898\\tthen 有些人好像有啊i. phone的traffic jam\\n'],\n",
       " 50495: ['UI23FAZ_0104\\t156091\\t160912\\t[eh]如果没有错是new zealand的cheese来[ha]\\n'],\n",
       " 50547: ['UI23FAZ_0104\\t479823\\t487678\\t[mmm]对啊第一次我我做啊它好像#gempar# #bumi#这样在middle [ah]\\n'],\n",
       " 50641: ['UI23FAZ_0105\\t49165\\t53897\\t啊对啊alergy [loh]我吃到一当的#chao# #hor-fun#就变成这样了咯\\n'],\n",
       " 50670: ['UI23FAZ_0105\\t318855\\t323386\\tthen有#shah# #bandar#有啊那个#hulu# #balang#什么啊\\n'],\n",
       " 51771: ['UI25FAZ_0102\\t343467\\t355482\\t[ah] interesting t. v. series [ah]很可以介绍啊哎哟啊我很少看t. v. series的\\n'],\n",
       " 51780: ['UI25FAZ_0102\\t424522\\t436290\\tso 拿回来然后我读咯然后我很喜欢要找那个第一个去m. p. h. [ah] book可是他们没有follow up也没有call\\n'],\n",
       " 51804: ['UI25FAZ_0102\\t619630\\t624329\\tso far第二本我读到to the work towards the beginning还没有完[kok]\\n'],\n",
       " 51965: ['UI25FAZ_0103\\t880722\\t888910\\t所以很多东西我们可以学to improve [loh]因为想e. q.你要meet很多people\\n'],\n",
       " 51983: ['UI25FAZ_0103\\t1112387\\t1121827\\t[mmm] from there我觉得会比较[err] [ah] upgrade your knowledge 因为做sales的时因为做sales你要\\n'],\n",
       " 52007: ['UI25FAZ_0104\\t173653\\t179382\\t我的lecturer他是有一个science degree可是他也有一个嘛m. b. a.\\n'],\n",
       " 52029: ['UI25FAZ_0104\\t387398\\t396134\\tso 在那边的时候啊他们派一个h. q. 的人to come interview one of the staff\\n'],\n",
       " 52047: [\"UI25FAZ_0104\\t571386\\t577922\\t不是讲against [lah]因为it's my way of earning a living\\n\"],\n",
       " 52055: [\"UI25FAZ_0104\\t659631\\t666092\\t可是他讲啊他讲food 跟 logging全部啊don't have to worry\\n\"],\n",
       " 52082: ['UI25FAZ_0104\\t953921\\t965427\\t是我有回去啊#sungai# #petani#的时候跟我的以前的house mate 我们会看咯if 有新的d. v. d.\\n'],\n",
       " 52226: ['UI26MAZ_0101\\t658746\\t664475\\t在k. l.啊然后还有\\n'],\n",
       " 52321: ['UI26MAZ_0102\\t117134\\t122753\\tdatabase 已经是可以说是已经是[sta] stabilize了已经是已经develop好了\\n'],\n",
       " 52470: ['UI26MAZ_0103\\t23701\\t30243\\tbiotech fresh grad 会很少很少就是in sales 去到那边做又没有c. 没有cert拿来做什么就是来这里啊at least \\n'],\n",
       " 52497: ['UI26MAZ_0103\\t206826\\t211940\\t现在有也有去u. s. m.的#sungai#那个#kelantan#的u. s. m.的inform也有过去\\n'],\n",
       " 52508: ['UI26MAZ_0103\\t283776\\t289120\\t[mmm] u. s. m. 有有有有有跟u. s. m.\\n'],\n",
       " 52509: ['UI26MAZ_0103\\t289120\\t292377\\tso far 好像他们都有有有有跟u. s. m. cooperate\\n'],\n",
       " 52510: ['UI26MAZ_0103\\t292377\\t296916\\t因为他的dean以前是u. s. m.他那个so他们会有跟u. s. m. cooperate\\n'],\n",
       " 52523: ['UI26MAZ_0103\\t388474\\t393707\\t然后gano gano是在#kedah#那边gano也是supplement 的\\n'],\n",
       " 52549: ['UI26MAZ_0103\\t552912\\t559852\\t那么bacteria 会不能生存因为bacteria大多数它的生存在p. h.会比较是acidify就是大概是啊六七啊\\n'],\n",
       " 52557: ['UI26MAZ_0103\\t612500\\t621520\\t啊醋是acid它会比较是strong acid比较不是说strong 它它会它的p. h.会比较高\\n'],\n",
       " 52586: ['UI26MAZ_0103\\t808164\\t814390\\tm. l. m.就是啊他们direct sales direst sales multi level他们direct sales [ah] supplement \\n'],\n",
       " 52640: ['UI26MAZ_0103\\t1172270\\t1177396\\t因为我有读过几张他们patterned 的paper在u. s. [ah]\\n'],\n",
       " 52754: ['UI26MAZ_0104\\t744272\\t748094\\t等我contribute还很迟哦如果要读完p. h. d.也是很迟哦\\n'],\n",
       " 52775: ['UI26MAZ_0104\\t909405\\t915763\\t啊之前在p. c. fair 有做过做过p. c. fair就有去做过可是现在是没有\\n'],\n",
       " 52896: ['UI26MAZ_0105\\t613691\\t618871\\t啊有有有after that 我apply 然后他给我师训我就没有去#perak# 那边\\n'],\n",
       " 52900: ['UI26MAZ_0105\\t630503\\t634770\\tbio student 你不能去到哪里你能读#perhutanan# 什么啦 可是\\n'],\n",
       " 52911: ['UI27FAZ_0101\\t21974\\t25088\\t啊我在u. s. m.读computer science\\n'],\n",
       " 52915: ['UI27FAZ_0101\\t60965\\t67931\\t比较有i. t.的啊题目比较我比较喜欢\\n'],\n",
       " 52921: ['UI27FAZ_0101\\t105359\\t115819\\tok and在那边我会做它的i. n. c. r.的programming 就是他们的i. s. o.的啊啊 i. s. o.的\\n'],\n",
       " 52923: ['UI27FAZ_0101\\t125110\\t139155\\t那个i. s. o.的project就是做他们的day to day的啊 啊transaction ok他们的啊 [mmm]\\n'],\n",
       " 52936: ['UI27FAZ_0101\\t243225\\t251743\\tmost of the customer就是在啊manufacturing customer就会在啊 啊penang的#bayan# #lepas# ok\\n'],\n",
       " 52964: ['UI27FAZ_0101\\t514207\\t527006\\t啊我的responsibility就我要cover整个northern region就包挂#kedah# #perlis# penang和#perak# the whole northern region\\n'],\n",
       " 52970: ['UI27FAZ_0101\\t574407\\t584832\\tok cannula是一个啊for做i. v. ok我们会 插进我们的vein ok to 做intravenous\\n'],\n",
       " 52996: ['UI27FAZ_0101\\t752877\\t756798\\tw. h. o.是world world health organize organization\\n'],\n",
       " 53005: ['UI27FAZ_0101\\t804968\\t813241\\t其实这个是啊好像一个plastic 但是这个不是plastic来的 它是d. h. p. free跟p. v. c. free的东西\\n'],\n",
       " 53008: ['UI27FAZ_0101\\t826090\\t838490\\t我就会去做这啊 会去 啊meet这个k. o. l. which is the key opinion leader [ah] mainly是specialist [ah] head of department [lah] and the medical assistant\\n'],\n",
       " 53026: ['UI27FAZ_0101\\t958703\\t964917\\tcentral venous catheter ok就好像我们进i. c. u. ok\\n'],\n",
       " 53027: ['UI27FAZ_0101\\t964917\\t975295\\tonce一个人进i. c. u.他们就会放这个central venous catheter ok 他们就会忘放在我们的啊femoral vein\\n'],\n",
       " 53032: ['UI27FAZ_0101\\t992796\\t995987\\tso when一个patient进这个i. c. u.里面的时候\\n'],\n",
       " 53037: ['UI27FAZ_0101\\t1013185\\t1017461\\t因为在一个i. c. u.里面普通一个patient会\\n'],\n",
       " 53039: ['UI27FAZ_0101\\t1025512\\t1038188\\tok so 这个c. v. c.会比较suitable for a patient to use and a doctor to [ah] to do calibration everything on the patient\\n'],\n",
       " 53045: ['UI27FAZ_0101\\t1075871\\t1080226\\t因为这个can ah c. v. c.它会直接通过\\n'],\n",
       " 53055: ['UI27FAZ_0101\\t1159273\\t1168376\\tand on top of that我们还有这个linus linus也是一个disposable product ok 他们会用在o. t.\\n'],\n",
       " 53063: ['UI27FAZ_0102\\t16344\\t23927\\tso这个doctor 还是m. a.他会suck这个fluid全部去这个linus loh\\n'],\n",
       " 53121: ['UI27FAZ_0102\\t430488\\t440599\\tok and  after变成有一个那个刀的形状了他们就会send去那个q. q. c.那里\\n'],\n",
       " 53122: ['UI27FAZ_0102\\t440599\\t451291\\tso那个q. c.会check by at least hundred person before it is [ah] before他们会啊sell这个instrument出去给hospital\\n'],\n",
       " 53137: ['UI27FAZ_0102\\t538533\\t545843\\tand when they want to 他们要dispose这个这个[mmm] bottle的时候\\n'],\n",
       " 53153: ['UI27FAZ_0102\\t661674\\t670800\\tso when你进去b. braun的时候你会看到 这个人skilled worker ok 他们都是很老了的\\n'],\n",
       " 53199: ['UI27FAZ_0102\\t978712\\t985422\\t然后他们没有 暂时没有manufacturing company好像b. braun在malaysia\\n'],\n",
       " 53319: ['UI27FAZ_0103\\t543093\\t548211\\t那个w. h. o.的recommendation是在那里来的 在switzerland来的 \\n'],\n",
       " 53321: ['UI27FAZ_0103\\t567015\\t570532\\t有 我平常都看t. v. three的\\n'],\n",
       " 53343: ['UI27FAZ_0103\\t713925\\t720711\\t但是两个都不一样啊o. s.它的operating system的不同的\\n'],\n",
       " 53349: ['UI27FAZ_0103\\t765603\\t776407\\t因为他们claimed that他们的o. s.会比比普通的快比如说好像symbian比较interactive compared to symbian o. s. ok\\n'],\n",
       " 53350: ['UI27FAZ_0103\\t776407\\t781484\\tsymbian o. s.跟这个啊windows o. s.\\n'],\n",
       " 53356: ['UI27FAZ_0103\\t821858\\t830941\\tin the other way ok when他们卖这个o. s.去 比如说现在用的这个google o. s.就是h. t. c. ok\\n'],\n",
       " 53357: ['UI27FAZ_0103\\t830941\\t835746\\th. t. c.也是需要跟他们买这个copyright起来\\n'],\n",
       " 53358: ['UI27FAZ_0103\\t841428\\t845133\\th. t. c.也是要给钱 给给他们pay他们的啊\\n'],\n",
       " 53363: ['UI27FAZ_0103\\t890323\\t895899\\tp. s. p. [loh]因为它的graphic怎样都会比i. phone比较好\\n'],\n",
       " 53368: ['UI27FAZ_0103\\t934812\\t940151\\tcompared to这个p. s. p. p. s. p.的game会比较有three d. animation\\n'],\n",
       " 53372: ['UI27FAZ_0103\\t964461\\t969354\\tp. s. p.会比较好跟它的sound effects\\n'],\n",
       " 53373: ['UI27FAZ_0103\\t983226\\t989579\\t啊对sony有出新的p. s. p. 就是它有slide的p. s. p.\\n'],\n",
       " 53379: ['UI27FAZ_0103\\t1024140\\t1027343\\tthree d.比较simple game\\n'],\n",
       " 53380: ['UI27FAZ_0103\\t1027343\\t1034251\\tok and它的game如果比p. s. p.起来 p. s. p.会比nintendo多很多\\n'],\n",
       " 53384: ['UI27FAZ_0103\\t1079791\\t1090196\\t因为i. pad 好像我讲刚才它比较它好像i. phone这样它也是很interactive ok 你要拿来surf net也是可以\\n'],\n",
       " 53390: ['UI27FAZ_0103\\t1112733\\t1119724\\t啊touch screen的 and 通常会有人会买i. pad compared to netbook\\n'],\n",
       " 53403: ['UI27FAZ_0104\\t1265\\t7148\\t[mmm]在p. s. p. god of war 它也是有在p. s. three里面 ok\\n'],\n",
       " 53431: ['UI27FAZ_0104\\t221567\\t226090\\t台湾出产的electronics product就是好像h. t. c.这样咯\\n'],\n",
       " 53432: ['UI27FAZ_0104\\t226090\\t230525\\th. t. c.我们的啊这个pocket [ah] smart phone这样\\n'],\n",
       " 53434: ['UI27FAZ_0104\\t237270\\t241192\\t跟很多l. e. d.也是在台湾出产的\\n'],\n",
       " 53565: ['UI27FAZ_0104\\t1139741\\t1145988\\t他是 when他first time进的时候第一次进b. braun的时候他是sales exec来的\\n'],\n",
       " 53626: ['UI28FAZ_0101\\t221989\\t230002\\t大嫂干净[mmm] move 去那个新#taman#之后新的garden\\n'],\n",
       " 53628: ['UI28FAZ_0101\\t262759\\t269861\\t会很sweet [leh]每次上学的时候daddy都会买糕点给我吃买马来糕#kuih# [ah]\\n'],\n",
       " 53634: ['UI28FAZ_0101\\t314017\\t318565\\t在 #kampung#的inconvenient [ah]\\n'],\n",
       " 53664: ['UI28FAZ_0101\\t668155\\t672396\\t要couple 的 [leh]一男一女的[leh]要bow的[leh]\\n'],\n",
       " 53671: ['UI28FAZ_0101\\t730337\\t737236\\tmaybe 会接他爸爸的business下来做又想不到他在#sekolah# #menengah#的时候这样子\\n'],\n",
       " 53701: ['UI28FAZ_0102\\t101507\\t108164\\t然后form two的时候读后面班想不到我每次成绩都拿第一[eh]\\n'],\n",
       " 53703: ['UI28FAZ_0102\\t116688\\t122794\\t我记得我有一次我的#guru# #tingkatan#竟然问我那个mathematics\\n'],\n",
       " 53742: ['UI28FAZ_0102\\t459163\\t464716\\t#kuala# #gula#的因为被逼咯不是什么#kuala# #gula#的trip那时侯\\n'],\n",
       " 53774: ['UI28FAZ_0102\\t681226\\t683368\\t啊总之唱 k.叫他去就对了\\n'],\n",
       " 53786: ['UI28FAZ_0102\\t774952\\t783173\\t而且我们以为#kuala# #gula#是出产#tebu#的你知道吗原来不是因为他们是最among malaysia是最咸的海水\\n'],\n",
       " 53788: ['UI28FAZ_0102\\t785535\\t793041\\t所以叫做#kuala# #gula#我还以为出产#tebu#的[eh] #ladang# #gula# [mah] #ladang# #gula# #gula#以为#tebu#在哪里没有#tebu#\\n'],\n",
       " 53794: ['UI28FAZ_0102\\t842799\\t849167\\t哦又懂了怎样做咸鸭蛋after that就去那个#arang#的厂\\n'],\n",
       " 53795: ['UI28FAZ_0102\\t849167\\t854610\\t#arang#的厂[mmm] #arang#的厂它的那个o. oven很大个\\n'],\n",
       " 53796: ['UI28FAZ_0102\\t854610\\t861416\\t看他怎样做咯把那些#kayu# #balak#那个mangrove [ah]红树的#balak#做成#arang#\\n'],\n",
       " 53809: ['UI28FAZ_0103\\t54746\\t64148\\t[ha] 然后就切咯然后#sisik#不可以弄掉[ha]就切了把它放在plastic bag再放#surat# #khabar#\\n'],\n",
       " 53810: ['UI28FAZ_0103\\t64148\\t72038\\t因为他讲#surat# #khabar#可以才能够保助它plastic bag会透掉它的鲜味还是什么\\n'],\n",
       " 53848: ['UI28FAZ_0103\\t358918\\t362550\\tonly two c. m.不到one inch [ah] #sotong#仔罢了\\n'],\n",
       " 53858: ['UI28FAZ_0103\\t455005\\t458922\\t就很#ulu# [loh]比我们b. m. #ulu#很多倍\\n'],\n",
       " 53862: ['UI28FAZ_0103\\t487210\\t497318\\t啊然后最够力的是当因为我们看到一个compound [mah]当他做#belacan#的时候啊够力噢整个village都会smell到\\n'],\n",
       " 53866: ['UI28FAZ_0103\\t522584\\t527904\\t所以你可以想像一下我们的我们真的是#orang# #tempatan#的生活这样咯\\n'],\n",
       " 53886: ['UI28FAZ_0104\\t31103\\t34957\\t#taman# #negara#玩不够[eh]还想再去多一次\\n'],\n",
       " 53893: ['UI28FAZ_0104\\t74118\\t81550\\t然后就走走咯走到有一个tourist guide带我们去走它里面然后介绍他的#hutan# [ah]\\n'],\n",
       " 53902: ['UI28FAZ_0104\\t149299\\t153884\\t就去了那个#gua# #telinga#过后因为那个torch light有粪嘛\\n'],\n",
       " 53904: ['UI28FAZ_0104\\t163296\\t166292\\t因为我的#gua# #telinga#就sacrifice它自己了\\n'],\n",
       " 53906: ['UI28FAZ_0104\\t182718\\t185075\\t因为去了#gua# #telinga#过后我们就坐boat\\n'],\n",
       " 53926: ['UI28FAZ_0104\\t375050\\t377593\\t因为chinese new year的holiday不会很长了[mah]\\n'],\n",
       " 53952: ['UI28FAZ_0104\\t548679\\t554293\\tmalacca 比较有#portugis#的感觉\\n'],\n",
       " 53975: ['UI28FAZ_0104\\t698404\\t701420\\t然后如果你要take picture的话[hor]又要加钱[eh]\\n'],\n",
       " 54023: ['UI28FAZ_0105\\t157605\\t163163\\tcrocodile farm也不要去[eh]全部crocodile #cacat#的不是一半身体就是没有尾巴\\n'],\n",
       " 54030: ['UI28FAZ_0105\\t214608\\t220856\\t[neh]普通beauty salon有得可是#langkawi#那边有你不用给钱喔因为你过岛了嘛\\n'],\n",
       " 54034: ['UI28FAZ_0105\\t247837\\t255635\\t所以要要玩这些beauty spa就prevent那些allergic [ah]什么事情发生最好是去#langkawi#好像\\n'],\n",
       " 54042: ['UI28FAZ_0105\\t332244\\t337197\\t吃到完high cholesterol的东西吃到完fats的东西[eh] fats 我不吃的\\n'],\n",
       " 54119: ['UI29FAZ_0101\\t327501\\t334623\\t不是 e.r.p. purely on manufacturing system 我们的e.r.p.是 running on s.a.p.\\n'],\n",
       " 54120: ['UI29FAZ_0101\\t340500\\t346775\\t啊未来就是因为我们有很多的e.r.p. system 还有 shipping 都是用s.a.p. mah 所以我们\\n'],\n",
       " 54151: ['UI29FAZ_0101\\t516028\\t522476\\t哦这个是他们的 final goal 就是说要用s.a.p.的话他们可以啊 cross among all side ah\\n'],\n",
       " 54271: ['UI29FAZ_0101\\t1141059\\t1146674\\t了 但是 因為 s.a.p.它那個 module 來 save finance [hor] ha fico hor\\n'],\n",
       " 54291: ['UI29FAZ_0102\\t50984\\t56402\\t但是你configure的时候你真的是要那种domain knowledge 你才可以去用s.a.p. [loh]\\n'],\n",
       " 54294: ['UI29FAZ_0102\\t64704\\t71545\\t又有m.m.lah 我的我的有的有的我都不懂啊知道最著名的是e.p.i.k.o. [ah] h.r. [ah] err\\n'],\n",
       " 54305: ['UI29FAZ_0102\\t173324\\t183263\\t所以 all the err 没有follow the sun 因为我们没有 counter part 在 u.s.所以都是我们这边的人 support 所以我们拿一个 support form\\n'],\n",
       " 54314: ['UI29FAZ_0102\\t252683\\t258536\\t啊在比较好听的来讲哦 like 因为你是 go in through level mah 像我们 i.t.的人哦 我们是 \\n'],\n",
       " 54351: ['UI29FAZ_0102\\t492074\\t503107\\t然后它 caused 到这个问题 还是我们要 purpose 一个 salution 给那个啊 developer 的时候 我们当然是不可以站在好像 user 的方面啊天马行空啊 你要有 i.t.的那种 logic\\n'],\n",
       " 54366: ['UI29FAZ_0102\\t570409\\t574887\\t所以他们真的不需要 i.t.的人去做他们的supporting 他们 banking 的 system [loh]\\n'],\n",
       " 54382: ['UI29FAZ_0102\\t648235\\t650702\\t那个called的 m.e.s里面\\n'],\n",
       " 54401: ['UI29FAZ_0102\\t739353\\t746021\\t所以像我们就算我们validate了过后有问题的话 我们也可以contact那个u.s. developer which is 是他们的 working time 来的吗\\n'],\n",
       " 54409: ['UI29FAZ_0102\\t789624\\t793356\\t对吗 那s.a.p.可能 哦可能s.a.p. arr on\\n'],\n",
       " 54417: ['UI29FAZ_0102\\t837491\\t840966\\t然后我们会用一个啊 c.a.m.s.t.a.r.对被c.a.m.s.t.a.r.买去 对\\n'],\n",
       " 54419: ['UI29FAZ_0102\\t846861\\t851078\\t之前他们就是用他们有draw out for 几个 customer 都是用c.a.m.s.t.a.r.mah\\n'],\n",
       " 54420: ['UI29FAZ_0102\\t851078\\t858712\\ti mean after factory work 他们没有啊 any 联系啊做intergration都是concentrate on c.a.m.s.t.a.r.loh 然後現在被c.a.m.s.t.a.r.買去咯\\n'],\n",
       " 54423: ['UI29FAZ_0102\\t881011\\t883976\\t他 他还是和 e.h.一起做吗\\n'],\n",
       " 54462: ['UI29FAZ_0102\\t1103629\\t1111149\\t但是他做满一年罢了哦 他现在已经是在别间公司了 你知道他currently在哪里吗 他currently在u.s.他十月中才回来\\n'],\n",
       " 54474: ['UI29FAZ_0102\\t1172051\\t1177300\\t哈 还有h 不是h.r.可能老板吗 老板请你的时候他们有看的吗这样子咯\\n'],\n",
       " 54759: ['UI29FAZ_0104\\t213934\\t219060\\t他有 他用他的d.s.l.r.机我不知道他用的spec是什么啦 他也有时候 \\n'],\n",
       " 54774: ['UI29FAZ_0104\\t294187\\t296974\\tbased on 那个b.l.r. 的话哦是\\n'],\n",
       " 54869: ['UI29FAZ_0104\\t781902\\t786563\\t如果我没有离开那个group的话哦 我现在应该是在u.s. liao\\n'],\n",
       " 54890: ['UI29FAZ_0104\\t852700\\t854428\\t不知道多开心啊 哇有得去u.s. oh\\n'],\n",
       " 54891: ['UI29FAZ_0104\\t854428\\t859092\\t然后这边 哇 一进来就有得去u.s. 去project [ah] wah 爽 这样咯\\n']}"
      ]
     },
     "execution_count": 261,
     "metadata": {},
     "output_type": "execute_result"
    }
   ],
   "source": [
    "d_unparse"
   ]
  },
  {
   "cell_type": "code",
   "execution_count": 262,
   "metadata": {
    "collapsed": false
   },
   "outputs": [
    {
     "data": {
      "text/plain": [
       "'NI61FBP_0101\\t696201\\t702891\\t有  以前  我 sec one sec two 就 用 里 谷 join 然后 sec three sec four 有 join 那个 robocup\\n'"
      ]
     },
     "execution_count": 262,
     "metadata": {},
     "output_type": "execute_result"
    }
   ],
   "source": [
    "text[32788] # cannot be understood by human"
   ]
  },
  {
   "cell_type": "code",
   "execution_count": 263,
   "metadata": {
    "collapsed": false
   },
   "outputs": [
    {
     "data": {
      "text/plain": [
       "'NI22FBP_0101\\t668052\\t669342\\t他  对  她  有  ·䞠\\x84\\x9f枠§\\x89\\n'"
      ]
     },
     "execution_count": 263,
     "metadata": {},
     "output_type": "execute_result"
    }
   ],
   "source": [
    "text[19959] # gibberlish"
   ]
  },
  {
   "cell_type": "code",
   "execution_count": 264,
   "metadata": {
    "collapsed": false
   },
   "outputs": [
    {
     "data": {
      "text/plain": [
       "'NI22FBP_0101\\t1040195\\t1044030\\tthen 他  会  给 ten dollar #angpow ha ha ha\\n'"
      ]
     },
     "execution_count": 264,
     "metadata": {},
     "output_type": "execute_result"
    }
   ],
   "source": [
    "text[20115] # loss of label: \"#angpow\" should be \"#angpow#\""
   ]
  },
  {
   "cell_type": "code",
   "execution_count": 265,
   "metadata": {
    "collapsed": false
   },
   "outputs": [
    {
     "data": {
      "text/plain": [
       "'UI17FAZ_0103\\t751720\\t754727\\tah sorry我不吃#kim gary#的 呵呵呵\\n'"
      ]
     },
     "execution_count": 265,
     "metadata": {},
     "output_type": "execute_result"
    }
   ],
   "source": [
    "text[46226] # space between labeled term: if we use the default split method, #kim gary# will be split into 2 words\n",
    "            # as the number of space between is 1 between english words and 2 between chinese words, it's really troublesome \n",
    "            # to do right split to avoid this problem"
   ]
  },
  {
   "cell_type": "code",
   "execution_count": 266,
   "metadata": {
    "collapsed": false
   },
   "outputs": [
    {
     "data": {
      "text/plain": [
       "'NI24MBP_0101\\t1138380\\t1140790\\t我  我  不是  去 %instep% 我是  去 g. i. p.\\n'"
      ]
     },
     "execution_count": 266,
     "metadata": {},
     "output_type": "execute_result"
    }
   ],
   "source": [
    "text[21298] # % indicates a special noun"
   ]
  },
  {
   "cell_type": "code",
   "execution_count": 267,
   "metadata": {
    "collapsed": false
   },
   "outputs": [
    {
     "data": {
      "text/plain": [
       "'NI25MBQ_0101\\t583590\\t587390\\t所以 %zhi=hong% %zhi=hong% 有点 %zhi=hong% was very stress because er\\n'"
      ]
     },
     "execution_count": 267,
     "metadata": {},
     "output_type": "execute_result"
    }
   ],
   "source": [
    "text[21373] # % indicates a special noun"
   ]
  },
  {
   "cell_type": "code",
   "execution_count": 268,
   "metadata": {
    "collapsed": false
   },
   "outputs": [
    {
     "data": {
      "text/plain": [
       "'NI26FBP_0101\\t1073610\\t1076900\\tit was then %sweety% decided that 他  会 take up cultural\\n'"
      ]
     },
     "execution_count": 268,
     "metadata": {},
     "output_type": "execute_result"
    }
   ],
   "source": [
    "text[21503] # % indicates a special noun"
   ]
  },
  {
   "cell_type": "code",
   "execution_count": 269,
   "metadata": {
    "collapsed": false
   },
   "outputs": [
    {
     "data": {
      "text/plain": [
       "'NI26FBP_0101\\t1261440\\t1262820\\t回来  继续  玩 %viwawa%\\n'"
      ]
     },
     "execution_count": 269,
     "metadata": {},
     "output_type": "execute_result"
    }
   ],
   "source": [
    "text[21513] # % indicates a special noun"
   ]
  },
  {
   "cell_type": "code",
   "execution_count": 270,
   "metadata": {
    "collapsed": false
   },
   "outputs": [
    {
     "data": {
      "text/plain": [
       "'NI43FBP_0101\\t1494840\\t1501690\\t不错  蛮  很好  吃  的  那边  的 %sashimi% 是  很  新鲜  的  那一  种  啊  就  一直  吃  \"sashimi\"\\n'"
      ]
     },
     "execution_count": 270,
     "metadata": {},
     "output_type": "execute_result"
    }
   ],
   "source": [
    "text[27698] # inconsistent annotation: according to the codebook, \"sashimi\" shoud be annotated as \"#sashimi#\" \n",
    "            # because it's a japanese word"
   ]
  },
  {
   "cell_type": "code",
   "execution_count": 271,
   "metadata": {
    "collapsed": false
   },
   "outputs": [
    {
     "data": {
      "text/plain": [
       "'UI21MAZ_0101\\t689491\\t700786\\t可能出来我发现我是不喜欢 i. t. 的 那时候如果现在是我工作我又有钱赚然后有可以得到经验如果又知道是 o. k. 的话到时半工读啰会比较好啦[mmm] \\n'"
      ]
     },
     "execution_count": 271,
     "metadata": {},
     "output_type": "execute_result"
    }
   ],
   "source": [
    "text[48495] # wrongly split a word in transcription: \"i. t.\" should be \"IT\", \"o. k.\" should be \"ok\" in our sense \n",
    "            # it may help if we discard the \".\" after the character"
   ]
  },
  {
   "cell_type": "code",
   "execution_count": 272,
   "metadata": {
    "collapsed": false
   },
   "outputs": [
    {
     "data": {
      "text/plain": [
       "'UI29FAZ_0102\\t64704\\t71545\\t又有m.m.lah 我的我的有的有的我都不懂啊知道最著名的是e.p.i.k.o. [ah] h.r. [ah] err\\n'"
      ]
     },
     "execution_count": 272,
     "metadata": {},
     "output_type": "execute_result"
    }
   ],
   "source": [
    "text[54294] # need to check the audio to see if \"epiko\" is pronunced as a word or letters"
   ]
  },
  {
   "cell_type": "code",
   "execution_count": 273,
   "metadata": {
    "collapsed": false
   },
   "outputs": [
    {
     "data": {
      "text/plain": [
       "'UI28FAZ_0101\\t221989\\t230002\\t大嫂干净[mmm] move 去那个新#taman#之后新的garden\\n'"
      ]
     },
     "execution_count": 273,
     "metadata": {},
     "output_type": "execute_result"
    }
   ],
   "source": [
    "text[53626] # wrong transcription of mandarin: \"大嫂干净\" should be \"打扫干净\""
   ]
  },
  {
   "cell_type": "code",
   "execution_count": 274,
   "metadata": {
    "collapsed": false
   },
   "outputs": [
    {
     "data": {
      "text/plain": [
       "'UI27FAZ_0103\\t1112733\\t1119724\\t啊touch screen的 and 通常会有人会买i. pad compared to netbook\\n'"
      ]
     },
     "execution_count": 274,
     "metadata": {},
     "output_type": "execute_result"
    }
   ],
   "source": [
    "text[53390] # wrong transcription of english: \"netbook\" should be \"notebook\""
   ]
  },
  {
   "cell_type": "code",
   "execution_count": 275,
   "metadata": {
    "collapsed": false
   },
   "outputs": [
    {
     "data": {
      "text/plain": [
       "'UI16MAZ_0103\\t747433\\t752878\\t哦那个我还不能啦 但是我？了起来大约大约想想这样才可以啦 \\n'"
      ]
     },
     "execution_count": 275,
     "metadata": {},
     "output_type": "execute_result"
    }
   ],
   "source": [
    "text[45496] # wrong annotation: \"?\" might refer to a non-transcribable sound?"
   ]
  },
  {
   "cell_type": "code",
   "execution_count": 276,
   "metadata": {
    "collapsed": false
   },
   "outputs": [
    {
     "data": {
      "text/plain": [
       "'UI27FAZ_0101\\t752877\\t756798\\tw. h. o.是world world health organize organization\\n'"
      ]
     },
     "execution_count": 276,
     "metadata": {},
     "output_type": "execute_result"
    }
   ],
   "source": [
    "text[52996] # for this kind of unparsed utterance, we can split chinese charater and english words"
   ]
  },
  {
   "cell_type": "code",
   "execution_count": 277,
   "metadata": {
    "collapsed": false,
    "scrolled": false
   },
   "outputs": [
    {
     "data": {
      "text/plain": [
       "12450"
      ]
     },
     "execution_count": 277,
     "metadata": {},
     "output_type": "execute_result"
    }
   ],
   "source": [
    "words_waste = []\n",
    "for word in words:\n",
    "    if word[-1] == \"]\" or word[-1] == \")\" or word[-1] == \"#\":\n",
    "        words_waste += [word]\n",
    "        #print(word)\n",
    "\n",
    "#print(words_waste)\n",
    "\n",
    "d_waste = dict()\n",
    "for word in words_waste:\n",
    "    try:\n",
    "        d_waste[word] += 1\n",
    "    except:\n",
    "        d_waste[word] = 1\n",
    "\n",
    "len(words_waste)"
   ]
  },
  {
   "cell_type": "code",
   "execution_count": 278,
   "metadata": {
    "collapsed": false
   },
   "outputs": [],
   "source": [
    "words_uniq = list(set(words))"
   ]
  },
  {
   "cell_type": "code",
   "execution_count": 279,
   "metadata": {
    "collapsed": false
   },
   "outputs": [
    {
     "data": {
      "text/plain": [
       "28614"
      ]
     },
     "execution_count": 279,
     "metadata": {},
     "output_type": "execute_result"
    }
   ],
   "source": [
    "len(words_uniq)"
   ]
  },
  {
   "cell_type": "code",
   "execution_count": 280,
   "metadata": {
    "collapsed": false
   },
   "outputs": [
    {
     "name": "stdout",
     "output_type": "stream",
     "text": [
      "Finish filtering\n"
     ]
    }
   ],
   "source": [
    "words = [word.upper() for word in words]\n",
    "d_train = dict()\n",
    "for word in words:\n",
    "    try:\n",
    "        d_train[word] = d[word]\n",
    "        for i in range(1,max_num+1):\n",
    "            try:\n",
    "                d_train[word+\"(i)\"] = d[word+\"(i)\"]\n",
    "            except:\n",
    "                break\n",
    "    except:\n",
    "        continue\n",
    "print(\"Finish filtering\")"
   ]
  },
  {
   "cell_type": "code",
   "execution_count": 281,
   "metadata": {
    "collapsed": false
   },
   "outputs": [
    {
     "data": {
      "text/plain": [
       "8639"
      ]
     },
     "execution_count": 281,
     "metadata": {},
     "output_type": "execute_result"
    }
   ],
   "source": [
    "len(d_train)"
   ]
  },
  {
   "cell_type": "code",
   "execution_count": null,
   "metadata": {
    "collapsed": true
   },
   "outputs": [],
   "source": []
  }
 ],
 "metadata": {
  "kernelspec": {
   "display_name": "Python [conda root]",
   "language": "python",
   "name": "conda-root-py"
  },
  "language_info": {
   "codemirror_mode": {
    "name": "ipython",
    "version": 3
   },
   "file_extension": ".py",
   "mimetype": "text/x-python",
   "name": "python",
   "nbconvert_exporter": "python",
   "pygments_lexer": "ipython3",
   "version": "3.5.2"
  }
 },
 "nbformat": 4,
 "nbformat_minor": 2
}
