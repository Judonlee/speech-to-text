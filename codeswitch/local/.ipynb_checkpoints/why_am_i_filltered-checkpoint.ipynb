{
 "cells": [
  {
   "cell_type": "code",
   "execution_count": 1,
   "metadata": {
    "collapsed": true
   },
   "outputs": [],
   "source": [
    "#### for emily only ####"
   ]
  },
  {
   "cell_type": "code",
   "execution_count": 5,
   "metadata": {
    "collapsed": false
   },
   "outputs": [
    {
     "name": "stdout",
     "output_type": "stream",
     "text": [
      "total 24\r\n",
      "drwxrwxr-x   8 yehua  staff  272 Mar 27 00:41 \u001b[1m\u001b[36mLDC2015S04\u001b[m\u001b[m/\r\n",
      "-rw-r--r--   1 yehua  staff  765 Mar 29 15:32 README.md\r\n",
      "drwxr-xr-x   4 yehua  staff  136 Mar 29 18:40 \u001b[1m\u001b[36maudio\u001b[m\u001b[m/\r\n",
      "drwxr-xr-x   6 yehua  staff  204 Mar 29 14:50 \u001b[1m\u001b[36mdata\u001b[m\u001b[m/\r\n",
      "drwxr-xr-x   5 yehua  staff  170 Mar 29 12:33 \u001b[1m\u001b[36minterview_audio\u001b[m\u001b[m/\r\n",
      "drwxr-xr-x  18 yehua  staff  612 Mar 29 21:28 \u001b[1m\u001b[36mlocal\u001b[m\u001b[m/\r\n",
      "-rw-r--r--   1 yehua  staff  400 Mar 27 00:30 path.sh\r\n",
      "-rw-r--r--   1 yehua  staff  571 Mar 28 00:20 run.sh\r\n"
     ]
    }
   ],
   "source": [
    "ls -l ../"
   ]
  },
  {
   "cell_type": "code",
   "execution_count": 8,
   "metadata": {
    "collapsed": false
   },
   "outputs": [],
   "source": [
    "raw = '../data/train/spk2gender'\n",
    "raw_lst = []\n",
    "with open(raw, 'r') as inputfile:\n",
    "    for line in inputfile:\n",
    "        raw_lst.append(line.split()[0])"
   ]
  },
  {
   "cell_type": "code",
   "execution_count": 15,
   "metadata": {
    "collapsed": false
   },
   "outputs": [],
   "source": [
    "filtered = './filtered_raw.txt'\n",
    "filtered_lst = []\n",
    "with open(filtered, 'r') as inputfile:\n",
    "    for line in inputfile:\n",
    "        filtered_lst.append(line.split()[0])"
   ]
  },
  {
   "cell_type": "code",
   "execution_count": 20,
   "metadata": {
    "collapsed": false
   },
   "outputs": [
    {
     "data": {
      "text/plain": [
       "160"
      ]
     },
     "execution_count": 20,
     "metadata": {},
     "output_type": "execute_result"
    }
   ],
   "source": [
    "len(raw_lst)\n"
   ]
  },
  {
   "cell_type": "code",
   "execution_count": 21,
   "metadata": {
    "collapsed": false
   },
   "outputs": [
    {
     "data": {
      "text/plain": [
       "104"
      ]
     },
     "execution_count": 21,
     "metadata": {},
     "output_type": "execute_result"
    }
   ],
   "source": [
    "len(filtered_lst)"
   ]
  },
  {
   "cell_type": "code",
   "execution_count": 17,
   "metadata": {
    "collapsed": false
   },
   "outputs": [
    {
     "name": "stdout",
     "output_type": "stream",
     "text": [
      "NC16FBQ\n",
      "NC50XFB\n",
      "NC58FAY\n",
      "NC56MBP\n",
      "NC13MBP\n",
      "NC20MBQ\n",
      "NC43FBP\n",
      "NC42MBQ\n",
      "NC18MBQ\n",
      "NC54FBQ\n",
      "NC39MBP\n",
      "NC26MBQ\n",
      "NC53MBP\n",
      "NC57FBX\n",
      "NC47MBP\n",
      "NC40FBQ\n",
      "NC59MAX\n",
      "NC24FBQ\n",
      "NC14FBQ\n",
      "NC25MBP\n",
      "NC15MBP\n",
      "NC17FBP\n",
      "NC46FBQ\n",
      "NC52FBQ\n",
      "NC35FBP\n",
      "NC29FBP\n",
      "NC34FBQ\n",
      "NC30MBQ\n",
      "NC31FBP\n",
      "NC33FBP\n",
      "NC28MBQ\n",
      "NC27MBP\n",
      "NC47MBQ\n",
      "NC23FBP\n",
      "NC60FBQ\n",
      "NC61FBQ\n",
      "NC19MBP\n",
      "NC32FBQ\n",
      "NC51MBP\n",
      "NC21FBP\n",
      "NC38FBQ\n"
     ]
    }
   ],
   "source": [
    "for f in raw_lst:\n",
    "    if f not in filtered_lst:\n",
    "        print (f)"
   ]
  },
  {
   "cell_type": "code",
   "execution_count": null,
   "metadata": {
    "collapsed": true
   },
   "outputs": [],
   "source": []
  }
 ],
 "metadata": {
  "kernelspec": {
   "display_name": "Python 3",
   "language": "python",
   "name": "python3"
  },
  "language_info": {
   "codemirror_mode": {
    "name": "ipython",
    "version": 3
   },
   "file_extension": ".py",
   "mimetype": "text/x-python",
   "name": "python",
   "nbconvert_exporter": "python",
   "pygments_lexer": "ipython3",
   "version": "3.5.1"
  }
 },
 "nbformat": 4,
 "nbformat_minor": 0
}
