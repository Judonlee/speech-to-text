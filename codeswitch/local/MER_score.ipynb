{
 "cells": [
  {
   "cell_type": "code",
   "execution_count": 44,
   "metadata": {
    "collapsed": true
   },
   "outputs": [],
   "source": [
    "# -*- coding: UTF-8 -*-"
   ]
  },
  {
   "cell_type": "code",
   "execution_count": 16,
   "metadata": {},
   "outputs": [
    {
     "name": "stdout",
     "output_type": "stream",
     "text": [
      "total 3784\r\n",
      "-rw-rw-r-- 1 yh2901 yh2901 326206 Apr 17 01:41 10.tra\r\n",
      "-rw-rw-r-- 1 yh2901 yh2901 322138 Apr 17 01:41 11.tra\r\n",
      "-rw-rw-r-- 1 yh2901 yh2901 317665 Apr 17 01:41 12.tra\r\n",
      "-rw-rw-r-- 1 yh2901 yh2901 313328 Apr 17 01:41 13.tra\r\n",
      "-rw-rw-r-- 1 yh2901 yh2901 309390 Apr 17 01:41 14.tra\r\n",
      "-rw-rw-r-- 1 yh2901 yh2901 305906 Apr 17 01:41 15.tra\r\n",
      "-rw-rw-r-- 1 yh2901 yh2901 302505 Apr 17 01:41 16.tra\r\n",
      "-rw-rw-r-- 1 yh2901 yh2901 299137 Apr 17 01:41 17.tra\r\n",
      "-rw-rw-r-- 1 yh2901 yh2901 342203 Apr 17 01:41 7.tra\r\n",
      "-rw-rw-r-- 1 yh2901 yh2901 336249 Apr 17 01:41 8.tra\r\n",
      "-rw-rw-r-- 1 yh2901 yh2901 331092 Apr 17 01:41 9.tra\r\n",
      "drwxrwxr-x 2 yh2901 yh2901   4096 Apr 17 01:41 \u001b[0m\u001b[01;34mlog\u001b[0m/\r\n",
      "-rw-rw-r-- 1 yh2901 yh2901 341386 Apr 17 01:40 test_filt.txt\r\n"
     ]
    }
   ],
   "source": [
    "ls -l ../exp/tri2b/decode/scoring/"
   ]
  },
  {
   "cell_type": "code",
   "execution_count": 17,
   "metadata": {},
   "outputs": [
    {
     "name": "stdout",
     "output_type": "stream",
     "text": [
      "NI45FBP_0101_2529230_2536840 9338 4946 4131 10104 11175 11147 6484 9157 9301 9311 8786 9616 8786 7663 11091 10794 8886 10938 10279 8771 \n",
      "NI45FBP_0101_2536840_2547460 8449 959 3581 7900 7758 3975 10938 8850 3940 7652 8337 3581 2210 6444 2 5489 9209 8850 7663 \n"
     ]
    }
   ],
   "source": [
    "%%bash\n",
    "less ../exp/tri2b/decode/scoring/17.tra | tail -2"
   ]
  },
  {
   "cell_type": "code",
   "execution_count": 18,
   "metadata": {},
   "outputs": [
    {
     "name": "stdout",
     "output_type": "stream",
     "text": [
      "UI29FAZ_0104_0975410_0977779 后 悔 是 OK SIL154\n",
      "UI29FAZ_0104_0985128_0986293 ERR\n"
     ]
    }
   ],
   "source": [
    "%%bash \n",
    "less ../exp/tri2b/decode/scoring/test_filt.txt | tail -2"
   ]
  },
  {
   "cell_type": "code",
   "execution_count": 19,
   "metadata": {},
   "outputs": [
    {
     "name": "stdout",
     "output_type": "stream",
     "text": [
      "<eps> 0\n",
      "<oov> 1\n",
      "A 2\n",
      "ABACK 3\n",
      "ABALONE 4\n"
     ]
    }
   ],
   "source": [
    "%%bash\n",
    "less ../data/lang/words.txt | head -5"
   ]
  },
  {
   "cell_type": "code",
   "execution_count": 69,
   "metadata": {
    "collapsed": true
   },
   "outputs": [],
   "source": [
    "import os\n",
    "from collections import defaultdict\n",
    "import numpy as np"
   ]
  },
  {
   "cell_type": "code",
   "execution_count": 34,
   "metadata": {},
   "outputs": [
    {
     "name": "stdout",
     "output_type": "stream",
     "text": [
      "parent path is /home/yh2901/kaldi/egs/codeswitch_nomergesil\n"
     ]
    }
   ],
   "source": [
    "parent_path = os.path.split(os.getcwd())[0]\n",
    "print (\"parent path is {}\".format(parent_path))"
   ]
  },
  {
   "cell_type": "code",
   "execution_count": 35,
   "metadata": {
    "collapsed": true
   },
   "outputs": [],
   "source": [
    "def get_file_list(path, extension):\n",
    "    files = os.listdir(path)\n",
    "    files = [f for f in files if f.endswith(extension)]\n",
    "    print (files)\n",
    "    return files"
   ]
  },
  {
   "cell_type": "code",
   "execution_count": 36,
   "metadata": {},
   "outputs": [
    {
     "name": "stdout",
     "output_type": "stream",
     "text": [
      "['15.tra', '12.tra', '16.tra', '9.tra', '8.tra', '11.tra', '10.tra', '13.tra', '7.tra', '14.tra', '17.tra']\n"
     ]
    }
   ],
   "source": [
    "tra_path = parent_path + \"/exp/tri2b/decode/scoring/\"\n",
    "tra_files = get_file_list(tra_path, \".tra\") #need to get tri2b from terminal"
   ]
  },
  {
   "cell_type": "code",
   "execution_count": 37,
   "metadata": {
    "collapsed": true
   },
   "outputs": [],
   "source": [
    "def gen_symbol_map():\n",
    "    r\"\"\"\n",
    "    Returns\n",
    "    -------\n",
    "    dic : defaultdict\n",
    "      a dictionary with key as word symbol and value as the corresponding word\n",
    "      e.g. '3': 'ABACK' \n",
    "    \"\"\"\n",
    "    dic = defaultdict(str)\n",
    "    with open(parent_path + \"/data/lang/words.txt\", \"r\") as inputfile:\n",
    "        for line in inputfile:\n",
    "            word = line.split(\" \")[0]\n",
    "            symbol = line.strip(\"\\n\").split(\" \")[1]\n",
    "            dic[symbol] = word\n",
    "    return dic\n",
    "    "
   ]
  },
  {
   "cell_type": "code",
   "execution_count": 38,
   "metadata": {
    "collapsed": true
   },
   "outputs": [],
   "source": [
    "s2w = gen_symbol_map()"
   ]
  },
  {
   "cell_type": "code",
   "execution_count": 39,
   "metadata": {},
   "outputs": [
    {
     "data": {
      "text/plain": [
       "11360"
      ]
     },
     "execution_count": 39,
     "metadata": {},
     "output_type": "execute_result"
    }
   ],
   "source": [
    "len(s2w)"
   ]
  },
  {
   "cell_type": "code",
   "execution_count": 40,
   "metadata": {},
   "outputs": [
    {
     "data": {
      "text/plain": [
       "'因为'"
      ]
     },
     "execution_count": 40,
     "metadata": {},
     "output_type": "execute_result"
    }
   ],
   "source": [
    "s2w['9338']"
   ]
  },
  {
   "cell_type": "code",
   "execution_count": 41,
   "metadata": {
    "collapsed": true
   },
   "outputs": [],
   "source": [
    "def gen_ground_truth_map(model):\n",
    "    r\"\"\"\n",
    "    Returns\n",
    "    -------\n",
    "    dic : defaultdict\n",
    "      a dictionary with utterance id as key and groud truth transcript as its value \n",
    "    \"\"\"\n",
    "    dic = defaultdict(list)\n",
    "    with open(parent_path + \"/exp/\" + model + \"/decode/scoring/test_filt.txt\", \"r\") as inputfile:\n",
    "        for line in inputfile:\n",
    "            utterance_id = line.split(\" \")[0]\n",
    "            words = line.strip(\"\\n\").split(\" \")[1:]\n",
    "            dic[utterance_id] = words\n",
    "    return dic\n"
   ]
  },
  {
   "cell_type": "code",
   "execution_count": 42,
   "metadata": {
    "collapsed": true
   },
   "outputs": [],
   "source": [
    "truth_map = gen_ground_truth_map(\"tri2b\")"
   ]
  },
  {
   "cell_type": "code",
   "execution_count": 43,
   "metadata": {
    "scrolled": true
   },
   "outputs": [
    {
     "data": {
      "text/plain": [
       "['不',\n",
       " '懂',\n",
       " 'BUT',\n",
       " 'OFFICIAL',\n",
       " 'RESULT',\n",
       " '还没有',\n",
       " '出',\n",
       " 'I',\n",
       " 'THINK',\n",
       " '出',\n",
       " '了',\n",
       " '他们',\n",
       " '就会']"
      ]
     },
     "execution_count": 43,
     "metadata": {},
     "output_type": "execute_result"
    }
   ],
   "source": [
    "truth_map['NC01FBX_0101_0165090_0167860']"
   ]
  },
  {
   "cell_type": "code",
   "execution_count": 31,
   "metadata": {},
   "outputs": [
    {
     "data": {
      "text/plain": [
       "['那种', '现在', '出来', '得', 'BUDGET']"
      ]
     },
     "execution_count": 31,
     "metadata": {},
     "output_type": "execute_result"
    }
   ],
   "source": [
    "# compare two lists and find difference \n",
    "temp1 = ['那种', 'BUDGET', '现在', '还没有', '出来', '得', '出', '他们', '就会']# predicted\n",
    "temp2 = ['不','懂','BUT','OFFICIAL','RESULT','还没有','出','I','THINK','出','了','他们','就会'] # truth\n",
    "list(set(temp1) - set(temp2))"
   ]
  },
  {
   "cell_type": "code",
   "execution_count": 32,
   "metadata": {},
   "outputs": [
    {
     "data": {
      "text/plain": [
       "{'他们', '出', '就会', '还没有'}"
      ]
     },
     "execution_count": 32,
     "metadata": {},
     "output_type": "execute_result"
    }
   ],
   "source": [
    "# compare two lists and find match\n",
    "set(temp2).intersection(temp1)"
   ]
  },
  {
   "cell_type": "code",
   "execution_count": 58,
   "metadata": {},
   "outputs": [],
   "source": [
    "def isEnglish(word):\n",
    "    from nltk.corpus import wordnet\n",
    "    if word == \"SIL1\" or word == \"SIL2\":\n",
    "        return -1\n",
    "    if not wordnet.synsets(word):\n",
    "        return 0\n",
    "    else:\n",
    "        return 1"
   ]
  },
  {
   "cell_type": "code",
   "execution_count": 130,
   "metadata": {
    "collapsed": true
   },
   "outputs": [],
   "source": [
    "def process_single_sentence(sen1, sen2):\n",
    "    r\"\"\"sen2 as the ground truth, and sen1 as decoded label\n",
    "    Returns\n",
    "    -------\n",
    "    number of match,\n",
    "    number of english word match,\n",
    "    number of chinese word match,\n",
    "    number of silence phones match,\n",
    "    total number of the truth sentence,\n",
    "    total number of true words that are english,\n",
    "    total number of true words that are chinese,\n",
    "    total number of true words that are sil\n",
    "    \"\"\"\n",
    "    intersection = set(sen2).intersection(sen1)\n",
    "    # accuracy = len(intersection)/len(sen2)\n",
    "    \n",
    "    eng_inter = len([w for w in list(intersection) if isEnglish(w) == 1]) \n",
    "    # how many currect english word is captured \n",
    "    chi_inter = len([w for w in list(intersection) if isEnglish(w) == 0]) \n",
    "    # how many currect chinese word is capture\n",
    "    sil_inter = len([w for w in list(intersection) if isEnglish(w) == -1]) \n",
    "    # how many engligh are there in ground truth\n",
    "    total_true_eng = len([w for w in list(sen2) if isEnglish(w) == 1]) \n",
    "    # how many chinese are there in ground truth\n",
    "    total_true_chi = len([w for w in list(sen2) if isEnglish(w) == 0]) \n",
    "    # how many SIL are there in ground truth\n",
    "    total_true_sil = len([w for w in list(sen2) if isEnglish(w) == 0]) \n",
    "    \n",
    "    return [len(intersection), eng_inter, chi_inter, sil_inter, len(sen2),total_true_eng, total_true_chi,total_true_sil ]\n",
    "    "
   ]
  },
  {
   "cell_type": "code",
   "execution_count": 59,
   "metadata": {},
   "outputs": [
    {
     "data": {
      "text/plain": [
       "-1"
      ]
     },
     "execution_count": 59,
     "metadata": {},
     "output_type": "execute_result"
    }
   ],
   "source": [
    "isEnglish(\"SIL1\")"
   ]
  },
  {
   "cell_type": "code",
   "execution_count": 124,
   "metadata": {
    "collapsed": true
   },
   "outputs": [],
   "source": [
    "a = [1,2,3]"
   ]
  },
  {
   "cell_type": "code",
   "execution_count": 125,
   "metadata": {},
   "outputs": [
    {
     "data": {
      "text/plain": [
       "2"
      ]
     },
     "execution_count": 125,
     "metadata": {},
     "output_type": "execute_result"
    }
   ],
   "source": [
    "a[-2]"
   ]
  },
  {
   "cell_type": "code",
   "execution_count": 128,
   "metadata": {
    "collapsed": true
   },
   "outputs": [],
   "source": [
    "def gen_file_stats(stacked):\n",
    "    stacked = stacked[1:]\n",
    "    sums = np.sum(stacked, axis=0)\n",
    "    \n",
    "    eng_WER = 1-(sums[1]/sums[-3])\n",
    "    chi_WER = 1-(sums[2]/sums[-2])\n",
    "    sil_WER = 1-(sums[3]/sums[-1])\n",
    "    MER = 1-(sums[0]/sums[-4])\n",
    "    return [chi_WER, eng_WER, sil_WER, MER]"
   ]
  },
  {
   "cell_type": "code",
   "execution_count": 60,
   "metadata": {},
   "outputs": [
    {
     "data": {
      "text/plain": [
       "[0, 1, 0, 0, 0, 0, 0, 0, 0]"
      ]
     },
     "execution_count": 60,
     "metadata": {},
     "output_type": "execute_result"
    }
   ],
   "source": [
    "[isEnglish(i) for i in temp1]"
   ]
  },
  {
   "cell_type": "code",
   "execution_count": 131,
   "metadata": {},
   "outputs": [
    {
     "name": "stdout",
     "output_type": "stream",
     "text": [
      "[0.66320695916099837, 0.66906878802058967, 1.0, 0.66452317908628589]\n",
      "[0.65330099192368152, 0.65702653376386355, 1.0, 0.65413755057006251]\n",
      "[0.65869437542353737, 0.66355694227769113, 1.0, 0.65978630232965485]\n",
      "[0.65127232067224616, 0.65584704313028008, 1.0, 0.65229957539832684]\n",
      "[0.64641656727745855, 0.65157159705711665, 1.0, 0.64757416648099642]\n",
      "[0.64494806421152029, 0.64939381173056221, 1.0, 0.6459463247144559]\n",
      "[0.64336476830425438, 0.64747422059944637, 1.0, 0.64428754197024385]\n",
      "[0.6442559565159931, 0.64841555888410407, 1.0, 0.64519002609360587]\n",
      "[0.64237864019181412, 0.64720751458916292, 1.0, 0.64346294622314715]\n",
      "[0.64382822644701143, 0.64860234783097115, 1.0, 0.64490028442116198]\n",
      "[0.64673655882178971, 0.6517569166092233, 1.0, 0.64786393387798002]\n",
      "\n",
      " average: chi_WER 0.649, eng_WER: 0.654 , mean_WER: 0.650 \n",
      "\n",
      " min: chi_WER 0.642, eng_WER: 0.647 , min_WER: 0.643 \n",
      "\n",
      " max: chi_WER 0.663, eng_WER: 0.669 , max_WER: 0.665 \n"
     ]
    }
   ],
   "source": [
    "stacked = [0]*8\n",
    "stats_stacked = [0]*4\n",
    "counter = 0\n",
    "for f in tra_files:\n",
    "    with open(tra_path + f, \"r\") as inputfile:\n",
    "        for line in inputfile:\n",
    "                #print (line)\n",
    "                symbols = line.replace(\"\\n\", \"\").split(\" \")[1:]\n",
    "                #print (symbols)\n",
    "                decoded_words = [s2w[sym] for sym in symbols][:-1] # remove \"\" caused by newline \n",
    "                #print (decoded_words )\n",
    "                true_words = truth_map[line.split(\" \")[0]]\n",
    "                #print (true_words)\n",
    "                processed = process_single_sentence(decoded_words, true_words)\n",
    "                stacked = np.vstack((stacked, processed))\n",
    "    stacked = stacked[1:]\n",
    "    stats = gen_file_stats(stacked)\n",
    "    print (stats)\n",
    "    stats_stacked = np.vstack((stats_stacked, stats))\n",
    "    \n",
    "# stats_stacked contains:    \n",
    "#[chi_WER, eng_WER, sil_WER, MER]\n",
    "stats_stacked = stats_stacked[1:]\n",
    "means = np.mean(stats_stacked, axis=0)\n",
    "chi_WER_mean = means[0]\n",
    "eng_WER_mean = means[1]\n",
    "sil_WER_mean = means[-2]\n",
    "WER_mean = means[-1]\n",
    "mins = np.min(stats_stacked, axis=0)\n",
    "maxs = np.max(stats_stacked, axis=0)\n",
    "\n",
    "print (\"\\n average: chi_WER {:.3f}, eng_WER: {:.3f} , mean_WER: {:.3f} \".format(chi_WER_mean, eng_WER_mean, WER_mean))\n",
    "print (\"\\n min: chi_WER {:.3f}, eng_WER: {:.3f} , min_WER: {:.3f} \".format(mins[0], mins[1], mins[-1]))\n",
    "print (\"\\n max: chi_WER {:.3f}, eng_WER: {:.3f} , max_WER: {:.3f} \".format(maxs[0], maxs[1], maxs[-1]))\n",
    "                \n",
    "            \n",
    "                          \n",
    "            \n",
    "            \n",
    "        "
   ]
  },
  {
   "cell_type": "code",
   "execution_count": 132,
   "metadata": {},
   "outputs": [
    {
     "data": {
      "text/plain": [
       "1.0"
      ]
     },
     "execution_count": 132,
     "metadata": {},
     "output_type": "execute_result"
    }
   ],
   "source": [
    "sil_WER_mean"
   ]
  },
  {
   "cell_type": "code",
   "execution_count": null,
   "metadata": {
    "collapsed": true
   },
   "outputs": [],
   "source": []
  }
 ],
 "metadata": {
  "kernelspec": {
   "display_name": "Python 3",
   "language": "python",
   "name": "python3"
  },
  "language_info": {
   "codemirror_mode": {
    "name": "ipython",
    "version": 3
   },
   "file_extension": ".py",
   "mimetype": "text/x-python",
   "name": "python",
   "nbconvert_exporter": "python",
   "pygments_lexer": "ipython3",
   "version": "3.5.2"
  }
 },
 "nbformat": 4,
 "nbformat_minor": 2
}
