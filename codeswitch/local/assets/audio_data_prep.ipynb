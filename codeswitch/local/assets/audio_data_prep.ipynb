{
 "cells": [
  {
   "cell_type": "code",
   "execution_count": 1,
   "metadata": {
    "collapsed": true
   },
   "outputs": [],
   "source": [
    "#!/usr/bin/python3"
   ]
  },
  {
   "cell_type": "code",
   "execution_count": 2,
   "metadata": {
    "collapsed": true
   },
   "outputs": [],
   "source": [
    "__author__=\"Emily Hua\""
   ]
  },
  {
   "cell_type": "markdown",
   "metadata": {},
   "source": [
    "Go to kaldi/egs/code-switch directory and create itnerview_audio folder. In kaldi-trunk/egs/code-switch/interview_audio create two folders: train and test. Select ten speaker of your choice to represent testing data set. Use this speaker's 'speakerID' as a name for an another new folder in kaldi-trunk/egs/code-switch/interview_audio/test directory. Then put there all the audio files related to that person. Put the rest (84 speakers) into train folder - this will be your training data set. Also create subfolders for each speaker."
   ]
  },
  {
   "cell_type": "code",
   "execution_count": 3,
   "metadata": {
    "collapsed": false,
    "scrolled": false
   },
   "outputs": [
    {
     "name": "stdout",
     "output_type": "stream",
     "text": [
      "total 8991184\r\n",
      "-rwxr-xr-x  1 yehua  staff  48047643 Feb 16 12:56 NI01MAX_0101.flac*\r\n",
      "-rwxr-xr-x  1 yehua  staff  50547368 Feb 16 12:56 NI02FAX_0101.flac*\r\n"
     ]
    }
   ],
   "source": [
    "ls -l ../LDC2015S04/seame_d2/data/interview/audio | head -3"
   ]
  },
  {
   "cell_type": "code",
   "execution_count": 4,
   "metadata": {
    "collapsed": false
   },
   "outputs": [
    {
     "name": "stdout",
     "output_type": "stream",
     "text": [
      "total 7925480\r\n",
      "-rwxr-xr-x  1 yehua  staff   95609160 Feb 16 12:51 01NC01FBX_0101.flac*\r\n",
      "-rwxr-xr-x  1 yehua  staff  123991309 Feb 16 12:51 01NC02FBY_0101.flac*\r\n"
     ]
    }
   ],
   "source": [
    "ls -l ../LDC2015S04/seame_d1/data/conversation/audio | head -3"
   ]
  },
  {
   "cell_type": "code",
   "execution_count": 5,
   "metadata": {
    "collapsed": false
   },
   "outputs": [
    {
     "name": "stdout",
     "output_type": "stream",
     "text": [
      "/Volumes/STARTRACK/deep-learning/code-switch/speech-to-text/codeswitch\n"
     ]
    }
   ],
   "source": [
    "import os\n",
    "parent_path = os.path.split(os.getcwd())[0]\n",
    "print (parent_path)"
   ]
  },
  {
   "cell_type": "code",
   "execution_count": 6,
   "metadata": {
    "collapsed": false,
    "scrolled": false
   },
   "outputs": [
    {
     "name": "stdout",
     "output_type": "stream",
     "text": [
      "there are total 210 of files in /Volumes/STARTRACK/deep-learning/code-switch/speech-to-text/codeswitch/LDC2015S04/seame_d2/data/interview/audio\n",
      "\n",
      "there are total 87 of files in /Volumes/STARTRACK/deep-learning/code-switch/speech-to-text/codeswitch/LDC2015S04/seame_d1/data/conversation/audio\n",
      "\n"
     ]
    }
   ],
   "source": [
    "def count_files(audio_path):\n",
    "    dir_list = os.listdir(audio_path)[1:]\n",
    "    print (\"there are total {} of files in {}\\n\".format(len(dir_list), audio_path))\n",
    "    return dir_list\n",
    "audio_path_i = parent_path + '/LDC2015S04/seame_d2/data/interview/audio'\n",
    "audio_path_c = parent_path + '/LDC2015S04/seame_d1/data/conversation/audio'\n",
    "dir_list_i = count_files(audio_path_i)\n",
    "dir_list_c = count_files(audio_path_c)"
   ]
  },
  {
   "cell_type": "code",
   "execution_count": 7,
   "metadata": {
    "collapsed": false
   },
   "outputs": [
    {
     "name": "stdout",
     "output_type": "stream",
     "text": [
      "there are 95 unique prefix sets\n",
      "there are 79 unique prefix sets\n"
     ]
    }
   ],
   "source": [
    "import re\n",
    "from collections import defaultdict \n",
    "def speaker_re_counts(dir_list):\n",
    "    id_dic = defaultdict(int)\n",
    "    for file in dir_list:\n",
    "        id_dic[re.split('_', file)[0]] += 1\n",
    "    print ('there are {} unique prefix sets'.format(len(id_dic)))\n",
    "    return id_dic\n",
    "id_dic_i = speaker_re_counts(dir_list_i)\n",
    "id_dic_c = speaker_re_counts(dir_list_c)\n",
    "    "
   ]
  },
  {
   "cell_type": "code",
   "execution_count": 9,
   "metadata": {
    "collapsed": false
   },
   "outputs": [
    {
     "name": "stdout",
     "output_type": "stream",
     "text": [
      "there are 64 unique prefix sets\n"
     ]
    }
   ],
   "source": [
    "id_dic_cc = defaultdict(int)\n",
    "for file in dir_list_c:\n",
    "    id_dic_cc[re.split('_', file)[0][2:]] += 1\n",
    "print ('there are {} unique prefix sets'.format(len(id_dic_cc)))"
   ]
  },
  {
   "cell_type": "code",
   "execution_count": 28,
   "metadata": {
    "collapsed": false,
    "scrolled": false
   },
   "outputs": [
    {
     "name": "stdout",
     "output_type": "stream",
     "text": [
      "speaker ids and number of recordings they have: {'22NC44MBQ': 1, '08NC16FBQ': 1, '02NC03FBX': 2}\n"
     ]
    }
   ],
   "source": [
    "print (\"example speaker ids and number of recordings in converstaion they have: {}\".format(dict(list(id_dic_c.items())[:3])))"
   ]
  },
  {
   "cell_type": "code",
   "execution_count": 29,
   "metadata": {
    "collapsed": false
   },
   "outputs": [
    {
     "name": "stdout",
     "output_type": "stream",
     "text": [
      "example speaker ids and number of recordings in interview they have: {'NI58FBP': 1, 'UI11FAZ': 3, 'NI14MBP': 1}\n"
     ]
    }
   ],
   "source": [
    "print (\"example speaker ids and number of recordings in interview they have: {}\".format(dict(list(id_dic_i.items())[:3])))"
   ]
  },
  {
   "cell_type": "code",
   "execution_count": 9,
   "metadata": {
    "collapsed": true
   },
   "outputs": [],
   "source": [
    "test_short_ids_i = ['01MA', '03FA','08MA', '29FA','29MB','42FB','44MB','45FB','67MB','55FB']"
   ]
  },
  {
   "cell_type": "code",
   "execution_count": 10,
   "metadata": {
    "collapsed": true
   },
   "outputs": [],
   "source": [
    "test_short_ids_c = ['01NC01FB', '01NC02FB','06NC11MA', '06NC12MA']"
   ]
  },
  {
   "cell_type": "code",
   "execution_count": 17,
   "metadata": {
    "collapsed": false
   },
   "outputs": [
    {
     "name": "stdout",
     "output_type": "stream",
     "text": [
      "there are 85 unprocessed speaker ids in the training set\n",
      "there are 10 unprocessed speaker ids in the testing set\n",
      "\n",
      "there are 75 unprocessed speaker ids in the training set\n",
      "there are 4 unprocessed speaker ids in the testing set\n",
      "\n"
     ]
    }
   ],
   "source": [
    "def train_test_split(id_dic, test_short_ids):\n",
    "    train_ids = []\n",
    "    test_ids = []\n",
    "    for key in id_dic:\n",
    "        if key[2:-1] in test_short_ids or key[:-1] in test_short_ids:\n",
    "            test_ids.append(key)\n",
    "        else: \n",
    "            train_ids.append(key)\n",
    "    print ('there are {} unprocessed speaker ids in the training set'.format(len(train_ids)))\n",
    "    print ('there are {} unprocessed speaker ids in the testing set\\n'.format(len(test_ids)))\n",
    "    return train_ids, test_ids\n",
    "train_ids_i, test_ids_i = train_test_split(id_dic_i, test_short_ids_i)\n",
    "train_ids_c, test_ids_c = train_test_split(id_dic_c, test_short_ids_c)"
   ]
  },
  {
   "cell_type": "markdown",
   "metadata": {},
   "source": [
    "there are 85 speaker ids in the training set\n",
    "there are 10 speaker ids in the testing set\n",
    "\n",
    "there are 75 speaker ids (60 after process) in the training set\n",
    "there are 4 speaker ids in the testing set"
   ]
  },
  {
   "cell_type": "code",
   "execution_count": 14,
   "metadata": {
    "collapsed": false
   },
   "outputs": [
    {
     "name": "stdout",
     "output_type": "stream",
     "text": [
      "speaker ids in the converation test set: ['01NC01FBX', '06NC12MAY', '01NC02FBY', '06NC11MAX']\n",
      "\n",
      "speaker ids in the interview test set: ['NI01MAX', 'NI29MBP', 'NI45FBP', 'UI03FAZ', 'UI08MAZ', 'NI55FBP', 'NI42FBQ', 'NI67MBQ', 'UI29FAZ', 'NI44MBQ']\n"
     ]
    }
   ],
   "source": [
    "print (\"speaker ids in the converation test set: {}\\n\".format(test_ids_c))\n",
    "print (\"speaker ids in the interview test set: {}\".format(test_ids_i))"
   ]
  },
  {
   "cell_type": "code",
   "execution_count": 15,
   "metadata": {
    "collapsed": false
   },
   "outputs": [
    {
     "data": {
      "text/plain": [
       "60"
      ]
     },
     "execution_count": 15,
     "metadata": {},
     "output_type": "execute_result"
    }
   ],
   "source": [
    "train_ids_c_short = set([x[2:] for x in train_ids_c])\n",
    "len(train_ids_c_short)"
   ]
  },
  {
   "cell_type": "code",
   "execution_count": 16,
   "metadata": {
    "collapsed": false
   },
   "outputs": [
    {
     "name": "stdout",
     "output_type": "stream",
     "text": [
      "{'NC41MBP', 'NC22MBQ', 'NC40FBQ', 'NC53MBP', 'NC04FBY', 'NC48FBP', 'NC14FBQ', 'NC37MBP', 'NC47MBQ', 'NC35FBP', 'NC09FAX', 'NC33FBP', 'NC50FBP', 'NC15MBP', 'NC31FBP', 'NC44MBQ', 'NC59MAX', 'NC07FBX', 'NC57FBX', 'NC38FBQ', 'NC47MBP', 'NC27MBP', 'NC26MBQ', 'NC39MBP', 'NC23FBP', 'NC19MBP', 'NC20MBQ', 'NC28MBQ', 'NC49FBQ', 'NC06FAY', 'NC58FAY', 'NC52FBQ', 'NC08FBY', 'NC13MBP', 'NC42MBQ', 'NC30MBQ', 'NC43FBQ', 'NC03FBX', 'NC32FBQ', 'NC29FBP', 'NC61FBQ', 'NC56MBP', 'NC18MBQ', 'NC05FAX', 'NC25MBP', 'NC10MAY', 'NC46FBQ', 'NC43FBP', 'NC50XFB', 'NC16FBQ', 'NC35FBQ', 'NC34FBQ', 'NC51MBP', 'NC24FBQ', 'NC17FBP', 'NC21FBP', 'NC54FBQ', 'NC60FBQ', 'NC45MBP', 'NC36MBQ'}\n"
     ]
    }
   ],
   "source": [
    "print (train_ids_c_short)"
   ]
  },
  {
   "cell_type": "code",
   "execution_count": 12,
   "metadata": {
    "collapsed": false,
    "scrolled": true
   },
   "outputs": [
    {
     "name": "stdout",
     "output_type": "stream",
     "text": [
      "speaker ids in the conversation train set: \n",
      "['18NC36MBQ', '03NC06FAY', '10NC19MBP', '23NC35FBQ', '42NC60FBQ', '44NC44MBQ', '14NC28MBQ', '24NC35FBQ', '22NC44MBQ', '46NC41MBP', '11NC22MBQ', '25NC47MBP', '08NC16FBQ', '16NC31FBP', '28NC52FBQ', '04NC08FBY', '43NC61FBQ', '40NC58FAY', '12NC24FBQ', '32NC36MBQ', '33NC43FBQ', '27NC47MBQ', '16NC32FBQ', '19NC37MBP', '05NC09FAX', '09NC17FBP', '41NC59MAX', '11NC21FBP', '15NC29FBP', '13NC25MBP', '32NC50FBP', '02NC04FBY', '30NC48FBP', '14NC27MBP', '13NC26MBQ', '38NC50FBP', '23NC45MBP', '19NC38FBQ', '20NC39MBP', '34NC37MBP', '21NC41MBP', '26NC49FBQ', '17NC33FBP', '07NC13MBP', '26NC48FBP', '28NC51MBP', '20NC40FBQ', '12NC23FBP', '08NC15MBP', '04NC07FBX', '36NC46FBQ', '24NC45MBP', '35NC56MBP', '05NC10MAY', '21NC42MBQ', '22NC43FBP', '10NC20MBQ', '27NC50FBP', '31NC50XFB', '29NC53MBP', '45NC22MBQ', '09NC18MBQ', '07NC14FBQ', '30NC49FBQ', '02NC03FBX', '15NC30MBQ', '17NC34FBQ', '25NC43FBQ', '37NC45MBP', '33NC37MBP', '29NC54FBQ', '03NC05FAX', '31NC35FBQ', '39NC57FBX', '18NC35FBP']\n",
      "\n",
      "speaker ids in the interview train set: \n",
      "['UI21MAZ', 'NI37MBP', 'NI03FBX', 'NI52MBQ', 'UI01FAZ', 'NI33MBP', 'NI62MBQ', 'NI06FBP', 'UI04FAZ', 'NI16FBP', 'NI51MBP', 'NI49MBP', 'UI27FAZ', 'UI17FAZ', 'UI20MAZ', 'NI46FBQ', 'NI53FBP', 'UI13FAZ', 'NI66MBQ', 'NI64FBQ', 'NI12MAP', 'NI30MBQ', 'NI59FBQ', 'UI18MAZ', 'UI23FAZ', 'NI50FBQ', 'NI02FAX', 'NI25MBQ', 'UI16MAZ', 'NI57FBQ', 'UI11FAZ', 'NI39FBP', 'NI20MBP', 'UI05MAZ', 'NI41MBP', 'UI22MAZ', 'NI36MBQ', 'NI60MBP', 'NI40FBQ', 'NI34FBQ', 'NI48FBQ', 'NI17FBQ', 'NI24MBP', 'UI07FAZ', 'NI32FBQ', 'UI24MAZ', 'NI11FBP', 'NI61FBP', 'NI63MBP', 'NI08FBP', 'NI05MBQ', 'NI47MBP', 'NI28MBP', 'NI19MBQ', 'NI23FBQ', 'UI12FAZ', 'NI15FBQ', 'UI09MAZ', 'UI02FAZ', 'NI04FBX', 'UI15FAZ', 'NI27MBQ', 'NI43FBP', 'NI56MBX', 'NI54FBQ', 'NI14MBP', 'UI06MAZ', 'NI18MBP', 'UI14MAZ', 'NI35FBP', 'NI65MBP', 'NI13MBQ', 'UI25FAZ', 'NI21MBQ', 'UI28FAZ', 'NI26FBP', 'UI19MAZ', 'NI10FBP', 'NI22FBP', 'NI31FBP', 'UI10FAZ', 'NI58FBP', 'UI26MAZ', 'NI09FBP', 'NI07FBQ']\n"
     ]
    }
   ],
   "source": [
    "print (\"speaker ids in the conversation train set: \\n{}\\n\".format(train_ids_c))\n",
    "print (\"speaker ids in the interview train set: \\n{}\".format(train_ids_i))"
   ]
  },
  {
   "cell_type": "code",
   "execution_count": 16,
   "metadata": {
    "collapsed": false
   },
   "outputs": [
    {
     "name": "stdout",
     "output_type": "stream",
     "text": [
      "there are 16 files ready to be moved into the test set\n",
      "there are 4 files ready to be moved into the test set\n"
     ]
    }
   ],
   "source": [
    "def create_test_wannabe(dir_list, test_ids):\n",
    "    test_wannabe = []\n",
    "    for file in dir_list:\n",
    "        speaker_id = re.split('_', file)[0]\n",
    "        if speaker_id in test_ids:\n",
    "            test_wannabe.append(file)\n",
    "            # I have add a file from this prefix into the test set, no need for more from this prefix\n",
    "    print (\"there are {} files ready to be moved into the test set\".format(len(test_wannabe)))    \n",
    "    return test_wannabe\n",
    "test_wannabe_i = create_test_wannabe(dir_list_i, test_ids_i)\n",
    "test_wannabe_c = create_test_wannabe(dir_list_c, test_ids_c)"
   ]
  },
  {
   "cell_type": "markdown",
   "metadata": {},
   "source": [
    "should be   \n",
    "there are 16 files ready to be moved into the test set  \n",
    "there are 4 files ready to be moved into the test set  \n"
   ]
  },
  {
   "cell_type": "code",
   "execution_count": 17,
   "metadata": {
    "collapsed": false,
    "scrolled": true
   },
   "outputs": [
    {
     "name": "stdout",
     "output_type": "stream",
     "text": [
      "ls: ../audio/: No such file or directory\r\n"
     ]
    }
   ],
   "source": [
    "ls -l ../audio/"
   ]
  },
  {
   "cell_type": "code",
   "execution_count": 18,
   "metadata": {
    "collapsed": false
   },
   "outputs": [
    {
     "name": "stdout",
     "output_type": "stream",
     "text": [
      "/Volumes/STARTRACK/deep-learning/code-switch/speech-to-text/codeswitch/audio\n",
      "loading interview recordings into /Volumes/STARTRACK/deep-learning/code-switch/speech-to-text/codeswitch/audio/test\n",
      "loading finished\n"
     ]
    }
   ],
   "source": [
    "# load interview recordings into the test set \n",
    "from shutil import copyfile\n",
    "directory = parent_path + \"/audio\"\n",
    "if not os.path.exists(directory):\n",
    "    os.makedirs(directory)\n",
    "print (directory)\n",
    "directory += \"/test\"\n",
    "print (\"loading interview recordings into {}\".format(directory))\n",
    "if not os.path.exists(directory):\n",
    "    os.makedirs(directory)\n",
    "    for file in test_wannabe_i:\n",
    "        speaker_id = re.split('_',file)[0]\n",
    "        if not os.path.exists(directory + \"/\" + speaker_id):\n",
    "            os.makedirs(directory + \"/\" + speaker_id)\n",
    "        src = audio_path_i + \"/\" + file\n",
    "        dst = directory + \"/\" + speaker_id + \"/\" + file\n",
    "        copyfile(src, dst)\n",
    "print (\"loading finished\")"
   ]
  },
  {
   "cell_type": "code",
   "execution_count": 20,
   "metadata": {
    "collapsed": false
   },
   "outputs": [
    {
     "name": "stdout",
     "output_type": "stream",
     "text": [
      "total 0\r\n",
      "drwxr-xr-x  3 yehua  staff  102 Mar 29 18:38 \u001b[1m\u001b[36mNI01MAX\u001b[m\u001b[m/\r\n",
      "drwxr-xr-x  3 yehua  staff  102 Mar 29 18:38 \u001b[1m\u001b[36mNI29MBP\u001b[m\u001b[m/\r\n",
      "drwxr-xr-x  3 yehua  staff  102 Mar 29 18:38 \u001b[1m\u001b[36mNI42FBQ\u001b[m\u001b[m/\r\n",
      "drwxr-xr-x  3 yehua  staff  102 Mar 29 18:38 \u001b[1m\u001b[36mNI44MBQ\u001b[m\u001b[m/\r\n",
      "drwxr-xr-x  3 yehua  staff  102 Mar 29 18:38 \u001b[1m\u001b[36mNI45FBP\u001b[m\u001b[m/\r\n",
      "drwxr-xr-x  3 yehua  staff  102 Mar 29 18:38 \u001b[1m\u001b[36mNI55FBP\u001b[m\u001b[m/\r\n",
      "drwxr-xr-x  3 yehua  staff  102 Mar 29 18:38 \u001b[1m\u001b[36mNI67MBQ\u001b[m\u001b[m/\r\n",
      "drwxr-xr-x  3 yehua  staff  102 Mar 29 18:38 \u001b[1m\u001b[36mUI03FAZ\u001b[m\u001b[m/\r\n",
      "drwxr-xr-x  6 yehua  staff  204 Mar 29 18:38 \u001b[1m\u001b[36mUI08MAZ\u001b[m\u001b[m/\r\n",
      "drwxr-xr-x  6 yehua  staff  204 Mar 29 18:38 \u001b[1m\u001b[36mUI29FAZ\u001b[m\u001b[m/\r\n"
     ]
    }
   ],
   "source": [
    "ls -l ../audio/test"
   ]
  },
  {
   "cell_type": "code",
   "execution_count": 21,
   "metadata": {
    "collapsed": false
   },
   "outputs": [
    {
     "name": "stdout",
     "output_type": "stream",
     "text": [
      "/Volumes/STARTRACK/deep-learning/code-switch/speech-to-text/codeswitch/audio\n",
      "loading conversation recordings into /Volumes/STARTRACK/deep-learning/code-switch/speech-to-text/codeswitch/audio/test\n",
      "loading finished\n"
     ]
    }
   ],
   "source": [
    "# load conversation recordings into the test set\n",
    "from shutil import copyfile\n",
    "directory = parent_path + \"/audio\"\n",
    "if not os.path.exists(directory):\n",
    "    os.makedirs(directory)\n",
    "print (directory)\n",
    "directory += \"/test\"\n",
    "print (\"loading conversation recordings into {}\".format(directory))\n",
    "\n",
    "for file in test_wannabe_c:\n",
    "    speaker_id = re.split('_',file)[0][2:]\n",
    "    if not os.path.exists(directory + \"/\" + speaker_id):\n",
    "        os.makedirs(directory + \"/\" + speaker_id)\n",
    "    src = audio_path_c + \"/\" + file\n",
    "    dst = directory + \"/\" + speaker_id + \"/\" + file\n",
    "    newname = directory + \"/\" + speaker_id + \"/\" + file[2:]\n",
    "    copyfile(src, dst)\n",
    "    os.rename(dst, newname)\n",
    "print (\"loading finished\")"
   ]
  },
  {
   "cell_type": "code",
   "execution_count": 23,
   "metadata": {
    "collapsed": false,
    "scrolled": true
   },
   "outputs": [
    {
     "name": "stdout",
     "output_type": "stream",
     "text": [
      "total 0\r\n",
      "drwxr-xr-x  3 yehua  staff  102 Mar 29 18:39 \u001b[1m\u001b[36mNC01FBX\u001b[m\u001b[m/\r\n",
      "drwxr-xr-x  3 yehua  staff  102 Mar 29 18:39 \u001b[1m\u001b[36mNC02FBY\u001b[m\u001b[m/\r\n",
      "drwxr-xr-x  3 yehua  staff  102 Mar 29 18:39 \u001b[1m\u001b[36mNC11MAX\u001b[m\u001b[m/\r\n",
      "drwxr-xr-x  3 yehua  staff  102 Mar 29 18:39 \u001b[1m\u001b[36mNC12MAY\u001b[m\u001b[m/\r\n",
      "drwxr-xr-x  3 yehua  staff  102 Mar 29 18:38 \u001b[1m\u001b[36mNI01MAX\u001b[m\u001b[m/\r\n",
      "drwxr-xr-x  3 yehua  staff  102 Mar 29 18:38 \u001b[1m\u001b[36mNI29MBP\u001b[m\u001b[m/\r\n",
      "drwxr-xr-x  3 yehua  staff  102 Mar 29 18:38 \u001b[1m\u001b[36mNI42FBQ\u001b[m\u001b[m/\r\n",
      "drwxr-xr-x  3 yehua  staff  102 Mar 29 18:38 \u001b[1m\u001b[36mNI44MBQ\u001b[m\u001b[m/\r\n",
      "drwxr-xr-x  3 yehua  staff  102 Mar 29 18:38 \u001b[1m\u001b[36mNI45FBP\u001b[m\u001b[m/\r\n",
      "drwxr-xr-x  3 yehua  staff  102 Mar 29 18:38 \u001b[1m\u001b[36mNI55FBP\u001b[m\u001b[m/\r\n",
      "drwxr-xr-x  3 yehua  staff  102 Mar 29 18:38 \u001b[1m\u001b[36mNI67MBQ\u001b[m\u001b[m/\r\n",
      "drwxr-xr-x  3 yehua  staff  102 Mar 29 18:38 \u001b[1m\u001b[36mUI03FAZ\u001b[m\u001b[m/\r\n",
      "drwxr-xr-x  6 yehua  staff  204 Mar 29 18:38 \u001b[1m\u001b[36mUI08MAZ\u001b[m\u001b[m/\r\n",
      "drwxr-xr-x  6 yehua  staff  204 Mar 29 18:38 \u001b[1m\u001b[36mUI29FAZ\u001b[m\u001b[m/\r\n"
     ]
    }
   ],
   "source": [
    "ls -l ../audio/test"
   ]
  },
  {
   "cell_type": "code",
   "execution_count": 25,
   "metadata": {
    "collapsed": false
   },
   "outputs": [
    {
     "name": "stdout",
     "output_type": "stream",
     "text": [
      "total 186744\r\n",
      "-rw-r--r--  1 yehua  staff  95609160 Mar 29 18:39 NC01FBX_0101.flac\r\n"
     ]
    }
   ],
   "source": [
    "ls -l ../audio/test/NC01FBX"
   ]
  },
  {
   "cell_type": "code",
   "execution_count": 26,
   "metadata": {
    "collapsed": false,
    "scrolled": true
   },
   "outputs": [
    {
     "name": "stdout",
     "output_type": "stream",
     "text": [
      "loading interview recordings into /Volumes/STARTRACK/deep-learning/code-switch/speech-to-text/codeswitch/audio/train\n",
      "loading finished\n"
     ]
    }
   ],
   "source": [
    "# loading interview recordings into the train set \n",
    "from shutil import copyfile\n",
    "directory = parent_path + \"/audio\"\n",
    "directory += \"/train\"\n",
    "print (\"loading interview recordings into {}\".format(directory))\n",
    "if not os.path.exists(directory):\n",
    "    os.makedirs(directory)\n",
    "    for file in dir_list_i:\n",
    "        speaker_id = re.split('_',file)[0]\n",
    "        if speaker_id in train_ids_i:\n",
    "            if not os.path.exists(directory + \"/\" + speaker_id):\n",
    "                os.makedirs(directory + \"/\" + speaker_id)\n",
    "            src = audio_path_i + \"/\" + file\n",
    "            dst = directory + \"/\" + speaker_id + \"/\" + file\n",
    "            copyfile(src, dst)\n",
    "print (\"loading finished\")"
   ]
  },
  {
   "cell_type": "code",
   "execution_count": 28,
   "metadata": {
    "collapsed": false
   },
   "outputs": [
    {
     "name": "stdout",
     "output_type": "stream",
     "text": [
      "      85\r\n"
     ]
    }
   ],
   "source": [
    "ls -1 ../audio/train | wc -l "
   ]
  },
  {
   "cell_type": "code",
   "execution_count": 106,
   "metadata": {
    "collapsed": false
   },
   "outputs": [
    {
     "data": {
      "text/plain": [
       "160"
      ]
     },
     "execution_count": 106,
     "metadata": {},
     "output_type": "execute_result"
    }
   ],
   "source": [
    "85+75\n"
   ]
  },
  {
   "cell_type": "code",
   "execution_count": 98,
   "metadata": {
    "collapsed": false
   },
   "outputs": [
    {
     "data": {
      "text/plain": [
       "['22NC44MBQ', '08NC16FBQ', '02NC03FBX', '37NC45MBP']"
      ]
     },
     "execution_count": 98,
     "metadata": {},
     "output_type": "execute_result"
    }
   ],
   "source": [
    "train_ids_c[:4]"
   ]
  },
  {
   "cell_type": "code",
   "execution_count": 29,
   "metadata": {
    "collapsed": false,
    "scrolled": true
   },
   "outputs": [
    {
     "name": "stdout",
     "output_type": "stream",
     "text": [
      "60\n",
      "75\n",
      "speakers with multiple recordings:\n",
      " ['NC50FBP', 'NC44MBQ', 'NC45MBP', 'NC05FAX', 'NC49FBQ', 'NC41MBP', 'NC07FBX', 'NC03FBX', 'NC04FBY', 'NC10MAY', 'NC37MBP', 'NC36MBQ', 'NC35FBQ', 'NC22MBQ', 'NC08FBY', 'NC48FBP', 'NC06FAY', 'NC43FBQ', 'NC09FAX']\n"
     ]
    }
   ],
   "source": [
    "# find me conversation with different recordings under the same speaker \n",
    "train = ['15NC29FBP', '29NC53MBP', '28NC52FBQ', '20NC39MBP', '04NC08FBY', '10NC20MBQ', '19NC37MBP', '40NC58FAY', '23NC45MBP', '46NC41MBP', '07NC14FBQ', '32NC36MBQ', '12NC24FBQ', '34NC37MBP', '13NC25MBP', '28NC51MBP', '31NC35FBQ', '25NC43FBQ', '26NC49FBQ', '31NC50XFB', '14NC28MBQ', '44NC44MBQ', '03NC06FAY', '33NC43FBQ', '09NC17FBP', '04NC07FBX', '45NC22MBQ', '26NC48FBP', '37NC45MBP', '27NC47MBQ', '18NC36MBQ', '15NC30MBQ', '02NC03FBX', '05NC10MAY', '03NC05FAX', '32NC50FBP', '36NC46FBQ', '11NC21FBP', '35NC56MBP', '11NC22MBQ', '19NC38FBQ', '22NC43FBP', '12NC23FBP', '29NC54FBQ', '07NC13MBP', '39NC57FBX', '25NC47MBP', '08NC16FBQ', '22NC44MBQ', '21NC41MBP', '17NC33FBP', '16NC31FBP', '08NC15MBP', '18NC35FBP', '05NC09FAX', '09NC18MBQ', '14NC27MBP', '42NC60FBQ', '17NC34FBQ', '30NC48FBP', '10NC19MBP', '41NC59MAX', '24NC35FBQ', '43NC61FBQ', '24NC45MBP', '27NC50FBP', '13NC26MBQ', '33NC37MBP', '30NC49FBQ', '16NC32FBQ', '02NC04FBY', '20NC40FBQ', '38NC50FBP', '23NC35FBQ', '21NC42MBQ']\n",
    "speaker_multiple = []\n",
    "sets = set([])\n",
    "for i in train:\n",
    "    sets.add(i[2:])\n",
    "print (len(sets))\n",
    "print (len(train))\n",
    "\n",
    "dic = defaultdict(list)\n",
    "for file in dir_list_c:\n",
    "    dic[re.split(\"_\",file)[0][2:]].append(file)\n",
    "\n",
    "for key in dic:\n",
    "    if len(dic[key]) > 1 :\n",
    "        speaker_multiple.append(key)\n",
    "print (\"speakers with multiple recordings:\\n {}\".format(speaker_multiple))"
   ]
  },
  {
   "cell_type": "code",
   "execution_count": 30,
   "metadata": {
    "collapsed": false
   },
   "outputs": [
    {
     "name": "stdout",
     "output_type": "stream",
     "text": [
      "loading conversation recordings into /Volumes/STARTRACK/deep-learning/code-switch/speech-to-text/codeswitch/audio/train\n",
      " 02NC03FBX has multiple recordings under its name\n",
      "formated it from 02NC03FBX_0101.flac to /Volumes/STARTRACK/deep-learning/code-switch/speech-to-text/codeswitch/audio/train/NC03FBX/NC03FBX_020101.flac\n",
      " 02NC03FBX has multiple recordings under its name\n",
      "formated it from 02NC03FBX_0201.flac to /Volumes/STARTRACK/deep-learning/code-switch/speech-to-text/codeswitch/audio/train/NC03FBX/NC03FBX_020201.flac\n",
      " 02NC04FBY has multiple recordings under its name\n",
      "formated it from 02NC04FBY_0101.flac to /Volumes/STARTRACK/deep-learning/code-switch/speech-to-text/codeswitch/audio/train/NC04FBY/NC04FBY_020101.flac\n",
      " 02NC04FBY has multiple recordings under its name\n",
      "formated it from 02NC04FBY_0201.flac to /Volumes/STARTRACK/deep-learning/code-switch/speech-to-text/codeswitch/audio/train/NC04FBY/NC04FBY_020201.flac\n",
      " 03NC05FAX has multiple recordings under its name\n",
      "formated it from 03NC05FAX_0101.flac to /Volumes/STARTRACK/deep-learning/code-switch/speech-to-text/codeswitch/audio/train/NC05FAX/NC05FAX_030101.flac\n",
      " 03NC05FAX has multiple recordings under its name\n",
      "formated it from 03NC05FAX_0201.flac to /Volumes/STARTRACK/deep-learning/code-switch/speech-to-text/codeswitch/audio/train/NC05FAX/NC05FAX_030201.flac\n",
      " 03NC06FAY has multiple recordings under its name\n",
      "formated it from 03NC06FAY_0101.flac to /Volumes/STARTRACK/deep-learning/code-switch/speech-to-text/codeswitch/audio/train/NC06FAY/NC06FAY_030101.flac\n",
      " 03NC06FAY has multiple recordings under its name\n",
      "formated it from 03NC06FAY_0201.flac to /Volumes/STARTRACK/deep-learning/code-switch/speech-to-text/codeswitch/audio/train/NC06FAY/NC06FAY_030201.flac\n",
      " 04NC07FBX has multiple recordings under its name\n",
      "formated it from 04NC07FBX_0101.flac to /Volumes/STARTRACK/deep-learning/code-switch/speech-to-text/codeswitch/audio/train/NC07FBX/NC07FBX_040101.flac\n",
      " 04NC07FBX has multiple recordings under its name\n",
      "formated it from 04NC07FBX_0201.flac to /Volumes/STARTRACK/deep-learning/code-switch/speech-to-text/codeswitch/audio/train/NC07FBX/NC07FBX_040201.flac\n",
      " 04NC08FBY has multiple recordings under its name\n",
      "formated it from 04NC08FBY_0101.flac to /Volumes/STARTRACK/deep-learning/code-switch/speech-to-text/codeswitch/audio/train/NC08FBY/NC08FBY_040101.flac\n",
      " 04NC08FBY has multiple recordings under its name\n",
      "formated it from 04NC08FBY_0201.flac to /Volumes/STARTRACK/deep-learning/code-switch/speech-to-text/codeswitch/audio/train/NC08FBY/NC08FBY_040201.flac\n",
      " 05NC09FAX has multiple recordings under its name\n",
      "formated it from 05NC09FAX_0101.flac to /Volumes/STARTRACK/deep-learning/code-switch/speech-to-text/codeswitch/audio/train/NC09FAX/NC09FAX_050101.flac\n",
      " 05NC09FAX has multiple recordings under its name\n",
      "formated it from 05NC09FAX_0201.flac to /Volumes/STARTRACK/deep-learning/code-switch/speech-to-text/codeswitch/audio/train/NC09FAX/NC09FAX_050201.flac\n",
      " 05NC10MAY has multiple recordings under its name\n",
      "formated it from 05NC10MAY_0101.flac to /Volumes/STARTRACK/deep-learning/code-switch/speech-to-text/codeswitch/audio/train/NC10MAY/NC10MAY_050101.flac\n",
      " 05NC10MAY has multiple recordings under its name\n",
      "formated it from 05NC10MAY_0201.flac to /Volumes/STARTRACK/deep-learning/code-switch/speech-to-text/codeswitch/audio/train/NC10MAY/NC10MAY_050201.flac\n",
      " 11NC22MBQ has multiple recordings under its name\n",
      "formated it from 11NC22MBQ_0101.flac to /Volumes/STARTRACK/deep-learning/code-switch/speech-to-text/codeswitch/audio/train/NC22MBQ/NC22MBQ_110101.flac\n",
      " 18NC36MBQ has multiple recordings under its name\n",
      "formated it from 18NC36MBQ_0101.flac to /Volumes/STARTRACK/deep-learning/code-switch/speech-to-text/codeswitch/audio/train/NC36MBQ/NC36MBQ_180101.flac\n",
      " 19NC37MBP has multiple recordings under its name\n",
      "formated it from 19NC37MBP_0101.flac to /Volumes/STARTRACK/deep-learning/code-switch/speech-to-text/codeswitch/audio/train/NC37MBP/NC37MBP_190101.flac\n",
      " 21NC41MBP has multiple recordings under its name\n",
      "formated it from 21NC41MBP_0101.flac to /Volumes/STARTRACK/deep-learning/code-switch/speech-to-text/codeswitch/audio/train/NC41MBP/NC41MBP_210101.flac\n",
      " 22NC44MBQ has multiple recordings under its name\n",
      "formated it from 22NC44MBQ_0101.flac to /Volumes/STARTRACK/deep-learning/code-switch/speech-to-text/codeswitch/audio/train/NC44MBQ/NC44MBQ_220101.flac\n",
      " 23NC35FBQ has multiple recordings under its name\n",
      "formated it from 23NC35FBQ_0101.flac to /Volumes/STARTRACK/deep-learning/code-switch/speech-to-text/codeswitch/audio/train/NC35FBQ/NC35FBQ_230101.flac\n",
      " 23NC45MBP has multiple recordings under its name\n",
      "formated it from 23NC45MBP_0101.flac to /Volumes/STARTRACK/deep-learning/code-switch/speech-to-text/codeswitch/audio/train/NC45MBP/NC45MBP_230101.flac\n",
      " 24NC35FBQ has multiple recordings under its name\n",
      "formated it from 24NC35FBQ_0101.flac to /Volumes/STARTRACK/deep-learning/code-switch/speech-to-text/codeswitch/audio/train/NC35FBQ/NC35FBQ_240101.flac\n",
      " 24NC45MBP has multiple recordings under its name\n",
      "formated it from 24NC45MBP_0101.flac to /Volumes/STARTRACK/deep-learning/code-switch/speech-to-text/codeswitch/audio/train/NC45MBP/NC45MBP_240101.flac\n",
      " 25NC43FBQ has multiple recordings under its name\n",
      "formated it from 25NC43FBQ_0101.flac to /Volumes/STARTRACK/deep-learning/code-switch/speech-to-text/codeswitch/audio/train/NC43FBQ/NC43FBQ_250101.flac\n",
      " 26NC48FBP has multiple recordings under its name\n",
      "formated it from 26NC48FBP_0101.flac to /Volumes/STARTRACK/deep-learning/code-switch/speech-to-text/codeswitch/audio/train/NC48FBP/NC48FBP_260101.flac\n",
      " 26NC49FBQ has multiple recordings under its name\n",
      "formated it from 26NC49FBQ_0101.flac to /Volumes/STARTRACK/deep-learning/code-switch/speech-to-text/codeswitch/audio/train/NC49FBQ/NC49FBQ_260101.flac\n",
      " 27NC50FBP has multiple recordings under its name\n",
      "formated it from 27NC50FBP_0101.flac to /Volumes/STARTRACK/deep-learning/code-switch/speech-to-text/codeswitch/audio/train/NC50FBP/NC50FBP_270101.flac\n",
      " 30NC48FBP has multiple recordings under its name\n",
      "formated it from 30NC48FBP_0101.flac to /Volumes/STARTRACK/deep-learning/code-switch/speech-to-text/codeswitch/audio/train/NC48FBP/NC48FBP_300101.flac\n",
      " 30NC49FBQ has multiple recordings under its name\n",
      "formated it from 30NC49FBQ_0101.flac to /Volumes/STARTRACK/deep-learning/code-switch/speech-to-text/codeswitch/audio/train/NC49FBQ/NC49FBQ_300101.flac\n",
      " 31NC35FBQ has multiple recordings under its name\n",
      "formated it from 31NC35FBQ_0101.flac to /Volumes/STARTRACK/deep-learning/code-switch/speech-to-text/codeswitch/audio/train/NC35FBQ/NC35FBQ_310101.flac\n",
      " 32NC36MBQ has multiple recordings under its name\n",
      "formated it from 32NC36MBQ_0101.flac to /Volumes/STARTRACK/deep-learning/code-switch/speech-to-text/codeswitch/audio/train/NC36MBQ/NC36MBQ_320101.flac\n",
      " 32NC50FBP has multiple recordings under its name\n",
      "formated it from 32NC50FBP_0101.flac to /Volumes/STARTRACK/deep-learning/code-switch/speech-to-text/codeswitch/audio/train/NC50FBP/NC50FBP_320101.flac\n",
      " 33NC37MBP has multiple recordings under its name\n",
      "formated it from 33NC37MBP_0101.flac to /Volumes/STARTRACK/deep-learning/code-switch/speech-to-text/codeswitch/audio/train/NC37MBP/NC37MBP_330101.flac\n",
      " 33NC43FBQ has multiple recordings under its name\n",
      "formated it from 33NC43FBQ_0101.flac to /Volumes/STARTRACK/deep-learning/code-switch/speech-to-text/codeswitch/audio/train/NC43FBQ/NC43FBQ_330101.flac\n",
      " 34NC37MBP has multiple recordings under its name\n",
      "formated it from 34NC37MBP_0101.flac to /Volumes/STARTRACK/deep-learning/code-switch/speech-to-text/codeswitch/audio/train/NC37MBP/NC37MBP_340101.flac\n",
      " 37NC45MBP has multiple recordings under its name\n",
      "formated it from 37NC45MBP_0101.flac to /Volumes/STARTRACK/deep-learning/code-switch/speech-to-text/codeswitch/audio/train/NC45MBP/NC45MBP_370101.flac\n",
      " 38NC50FBP has multiple recordings under its name\n",
      "formated it from 38NC50FBP_0101.flac to /Volumes/STARTRACK/deep-learning/code-switch/speech-to-text/codeswitch/audio/train/NC50FBP/NC50FBP_380101.flac\n",
      " 44NC44MBQ has multiple recordings under its name\n",
      "formated it from 44NC44MBQ_0101.flac to /Volumes/STARTRACK/deep-learning/code-switch/speech-to-text/codeswitch/audio/train/NC44MBQ/NC44MBQ_440101.flac\n",
      " 45NC22MBQ has multiple recordings under its name\n",
      "formated it from 45NC22MBQ_0101.flac to /Volumes/STARTRACK/deep-learning/code-switch/speech-to-text/codeswitch/audio/train/NC22MBQ/NC22MBQ_450101.flac\n",
      " 46NC41MBP has multiple recordings under its name\n",
      "formated it from 46NC41MBP_0101.flac to /Volumes/STARTRACK/deep-learning/code-switch/speech-to-text/codeswitch/audio/train/NC41MBP/NC41MBP_460101.flac\n",
      "loading finished\n",
      "loaded 83 conversation recordings in to train set \n"
     ]
    }
   ],
   "source": [
    "# loading conversation recordings into the train set \n",
    "from shutil import copyfile\n",
    "directory = parent_path + \"/audio\"\n",
    "directory += \"/train\"\n",
    "print (\"loading conversation recordings into {}\".format(directory))\n",
    "counter = 0\n",
    "for file in dir_list_c:\n",
    "    speaker_id = re.split('_',file)[0]\n",
    "    if speaker_id in train_ids_c:\n",
    "        counter += 1\n",
    "        if not os.path.exists(directory + \"/\" + speaker_id[2:]):\n",
    "            os.makedirs(directory + \"/\" + speaker_id[2:])\n",
    "        src = audio_path_c + \"/\" + file\n",
    "        dst = directory + \"/\" + speaker_id[2:] + \"/\" + file\n",
    "        if speaker_id[2:] in speaker_multiple:\n",
    "            print (\" {} has multiple recordings under its name\".format(speaker_id))\n",
    "            pre = re.split(\"_\",file)[0][:2]\n",
    "            end = re.split(\"_\",file)[1].split(\".\")[0]\n",
    "            newfile = re.split(\"_\",file)[0][2:] + '_' + pre + end + \".flac\"\n",
    "\n",
    "            newname = directory + \"/\" + speaker_id[2:] + \"/\" + newfile\n",
    "            print (\"formated it from {} to {}\".format(file, newname))\n",
    "        \n",
    "        else: \n",
    "            newname = directory + \"/\" + speaker_id[2:] + \"/\" + file[2:]\n",
    "        copyfile(src, dst)\n",
    "        os.rename(dst, newname)\n",
    "        \n",
    "print (\"loading finished\")\n",
    "print (\"loaded {} conversation recordings in to train set \".format(counter))"
   ]
  },
  {
   "cell_type": "code",
   "execution_count": 31,
   "metadata": {
    "collapsed": false
   },
   "outputs": [
    {
     "name": "stdout",
     "output_type": "stream",
     "text": [
      "     145\r\n"
     ]
    }
   ],
   "source": [
    "ls -1 ../audio/train | wc -l "
   ]
  },
  {
   "cell_type": "code",
   "execution_count": 32,
   "metadata": {
    "collapsed": false
   },
   "outputs": [
    {
     "name": "stdout",
     "output_type": "stream",
     "text": [
      "      14\r\n"
     ]
    }
   ],
   "source": [
    "ls -1 ../audio/test | wc -l"
   ]
  },
  {
   "cell_type": "code",
   "execution_count": 33,
   "metadata": {
    "collapsed": false
   },
   "outputs": [
    {
     "name": "stdout",
     "output_type": "stream",
     "text": [
      "NC41MBP_210101.flac\r\n",
      "NC41MBP_460101.flac\r\n"
     ]
    }
   ],
   "source": [
    "ls -1 ../interview_audio/train/NC41MBP"
   ]
  }
 ],
 "metadata": {
  "kernelspec": {
   "display_name": "Python 3",
   "language": "python",
   "name": "python3"
  },
  "language_info": {
   "codemirror_mode": {
    "name": "ipython",
    "version": 3
   },
   "file_extension": ".py",
   "mimetype": "text/x-python",
   "name": "python",
   "nbconvert_exporter": "python",
   "pygments_lexer": "ipython3",
   "version": "3.5.1"
  }
 },
 "nbformat": 4,
 "nbformat_minor": 0
}
